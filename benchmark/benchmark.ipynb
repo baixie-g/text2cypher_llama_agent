{
 "cells": [
  {
   "cell_type": "code",
   "execution_count": 1,
   "id": "bc911b0b-4e15-401e-9875-e43c25470daa",
   "metadata": {},
   "outputs": [],
   "source": [
    "import sys\n",
    "import os\n",
    "\n",
    "# Insert the parent directory of \"app\" into sys.path\n",
    "# so that Python recognizes \"app\" as an importable package.\n",
    "notebook_dir = os.path.dirname(os.path.abspath(\"__file__\"))\n",
    "parent_dir = os.path.abspath(os.path.join(notebook_dir, \"..\"))\n",
    "sys.path.append(parent_dir)"
   ]
  },
  {
   "cell_type": "code",
   "execution_count": 2,
   "id": "85258025-55e3-45db-b6a5-29004264c7c5",
   "metadata": {},
   "outputs": [
    {
     "data": {
      "text/plain": [
       "True"
      ]
     },
     "execution_count": 2,
     "metadata": {},
     "output_type": "execute_result"
    }
   ],
   "source": [
    "from dotenv import load_dotenv\n",
    "load_dotenv()  # This looks for .env in the current working directory"
   ]
  },
  {
   "cell_type": "code",
   "execution_count": 3,
   "id": "4329aafd-3e8c-4acb-abdf-fcedd3f95e20",
   "metadata": {},
   "outputs": [
    {
     "data": {
      "text/plain": [
       "'\\nimport time\\nstart = time.time()\\nfrom app.workflows.naive_text2cypher import NaiveText2CypherFlow\\nend = time.time()\\nprint(f\"Import took {end - start:.2f} seconds\")\\nflow = NaiveText2CypherFlow(verbose=True, timeout=30)\\n'"
      ]
     },
     "execution_count": 3,
     "metadata": {},
     "output_type": "execute_result"
    }
   ],
   "source": [
    "\"\"\"\n",
    "import time\n",
    "start = time.time()\n",
    "from app.workflows.naive_text2cypher import NaiveText2CypherFlow\n",
    "end = time.time()\n",
    "print(f\"Import took {end - start:.2f} seconds\")\n",
    "flow = NaiveText2CypherFlow(verbose=True, timeout=30)\n",
    "\"\"\""
   ]
  },
  {
   "cell_type": "code",
   "execution_count": 4,
   "id": "ba125d4e-f02c-4490-8dc2-e5b4d5eb7a05",
   "metadata": {},
   "outputs": [
    {
     "name": "stderr",
     "output_type": "stream",
     "text": [
      "/Users/tomazbratanic/anaconda3/lib/python3.11/site-packages/pandas/core/arrays/masked.py:60: UserWarning: Pandas requires version '1.3.6' or newer of 'bottleneck' (version '1.3.5' currently installed).\n",
      "  from pandas.core import (\n",
      "/Users/tomazbratanic/anaconda3/lib/python3.11/site-packages/pydantic/_internal/_fields.py:132: UserWarning: Field \"model_name\" in HuggingFaceInferenceAPIEmbeddings has conflict with protected namespace \"model_\".\n",
      "\n",
      "You may be able to resolve this warning by setting `model_config['protected_namespaces'] = ()`.\n",
      "  warnings.warn(\n"
     ]
    },
    {
     "name": "stdout",
     "output_type": "stream",
     "text": [
      "Import took 10.63 seconds\n"
     ]
    }
   ],
   "source": [
    "import time\n",
    "start = time.time()\n",
    "from app.workflows.naive_text2cypher_retry import NaiveText2CypherRetryFlow\n",
    "end = time.time()\n",
    "print(f\"Import took {end - start:.2f} seconds\")\n",
    "flow = NaiveText2CypherRetryFlow(verbose=False, timeout=30)"
   ]
  },
  {
   "cell_type": "code",
   "execution_count": 5,
   "id": "041de039-c410-417f-bec2-9b92a70cdf82",
   "metadata": {},
   "outputs": [
    {
     "data": {
      "text/html": [
       "<div>\n",
       "<style scoped>\n",
       "    .dataframe tbody tr th:only-of-type {\n",
       "        vertical-align: middle;\n",
       "    }\n",
       "\n",
       "    .dataframe tbody tr th {\n",
       "        vertical-align: top;\n",
       "    }\n",
       "\n",
       "    .dataframe thead th {\n",
       "        text-align: right;\n",
       "    }\n",
       "</style>\n",
       "<table border=\"1\" class=\"dataframe\">\n",
       "  <thead>\n",
       "    <tr style=\"text-align: right;\">\n",
       "      <th></th>\n",
       "      <th>Question</th>\n",
       "    </tr>\n",
       "  </thead>\n",
       "  <tbody>\n",
       "    <tr>\n",
       "      <th>0</th>\n",
       "      <td>Who acted in Tom Hanks’s highest-rated movie?</td>\n",
       "    </tr>\n",
       "    <tr>\n",
       "      <th>1</th>\n",
       "      <td>Which movie starring Meg Ryan has the most act...</td>\n",
       "    </tr>\n",
       "    <tr>\n",
       "      <th>2</th>\n",
       "      <td>Who directed the most recent movie starring Ha...</td>\n",
       "    </tr>\n",
       "    <tr>\n",
       "      <th>3</th>\n",
       "      <td>Which actors starred together in the same movi...</td>\n",
       "    </tr>\n",
       "    <tr>\n",
       "      <th>4</th>\n",
       "      <td>What is the highest-rated movie from the 1990s...</td>\n",
       "    </tr>\n",
       "  </tbody>\n",
       "</table>\n",
       "</div>"
      ],
      "text/plain": [
       "                                            Question\n",
       "0      Who acted in Tom Hanks’s highest-rated movie?\n",
       "1  Which movie starring Meg Ryan has the most act...\n",
       "2  Who directed the most recent movie starring Ha...\n",
       "3  Which actors starred together in the same movi...\n",
       "4  What is the highest-rated movie from the 1990s..."
      ]
     },
     "execution_count": 5,
     "metadata": {},
     "output_type": "execute_result"
    }
   ],
   "source": [
    "import pandas as pd\n",
    "\n",
    "test_df = pd.read_csv('test_data.csv')\n",
    "test_df.head()"
   ]
  },
  {
   "cell_type": "code",
   "execution_count": null,
   "id": "761792cf-9f64-49d2-9d56-79cc7140b0f5",
   "metadata": {},
   "outputs": [
    {
     "name": "stdout",
     "output_type": "stream",
     "text": [
      "Who acted in Tom Hanks’s highest-rated movie?\n",
      "{'cypher': \"MATCH (p:Person {name: 'Tom Hanks'})-[:ACTED_IN]->(m:Movie)\\nWITH m\\nORDER BY m.imdbRating DESC LIMIT 1\\nMATCH (m)<-[:ACTED_IN]-(a:Person)\\nRETURN a.name, m.title\", 'question': 'Who acted in Tom Hanks’s highest-rated movie?', 'answer': \"Based on the context provided, Tom Hanks's highest-rated movie is *From the Earth to the Moon*. The actors who acted in this movie alongside Tom Hanks are:\\n\\n- David Andrews\\n- Lane Smith\\n- Nick Searcy\\n\\nThis conclusion is drawn from the Cypher query and the returned data, which lists the actors (`a.name`) and the movie title (`m.title`).\"}\n",
      "Which movie starring Meg Ryan has the most actors in common with a Tom Hanks movie?\n",
      "{'cypher': \"MATCH (meg:Person {name: 'Meg Ryan'})-[:ACTED_IN]->(megMovie:Movie)<-[:ACTED_IN]-(megActors:Person),\\n      (tom:Person {name: 'Tom Hanks'})-[:ACTED_IN]->(tomMovie:Movie)<-[:ACTED_IN]-(tomActors:Person)\\nWHERE megActors = tomActors\\nWITH megMovie, COUNT(DISTINCT megActors) AS commonActorsCount\\nORDER BY commonActorsCount DESC\\nLIMIT 1\\nRETURN megMovie.title, commonActorsCount\", 'question': 'Which movie starring Meg Ryan has the most actors in common with a Tom Hanks movie?', 'answer': 'Based on the context provided, the movie starring Meg Ryan that has the most actors in common with a Tom Hanks movie is **\"Courage Under Fire\"**, with **1 actor** in common. \\n\\nThis conclusion is drawn directly from the query result, which identifies \"Courage Under Fire\" as the movie with the highest count of shared actors between Meg Ryan and Tom Hanks movies.'}\n",
      "Who directed the most recent movie starring Halle Berry, and which other actors starred in that director’s earlier movies?\n",
      "{'cypher': 'MATCH (p:Person {name: \"Halle Berry\"})-[:ACTED_IN]->(m:Movie)<-[:DIRECTED]-(d:Person)\\nWITH d, m\\nORDER BY m.released DESC\\nLIMIT 1\\nMATCH (d)-[:DIRECTED]->(earlier:Movie)<-[:ACTED_IN]-(a:Person)\\nWHERE earlier <> m\\nRETURN d.name AS director, m.title AS mostRecentMovie, COLLECT(DISTINCT a.name) AS otherActorsInEarlierMovies', 'question': 'Who directed the most recent movie starring Halle Berry, and which other actors starred in that director’s earlier movies?', 'answer': \"The most recent movie starring Halle Berry, as per the context, is *The Call*, which was directed by **Brad Anderson**. Other actors who starred in Brad Anderson's earlier movies include:\\n\\n- Hope Davis\\n- Ken Cheeseman\\n- Callie Thorne\\n- Philip Seymour Hoffman\\n- Paul Guilfoyle\\n- David Caruso\\n- Josh Lucas\\n- Stephen Gevedon\\n- Christian Bale\\n- Jennifer Jason Leigh\\n- Aitana Sánchez-Gijón\\n- John Sharian\\n- David Thewlis\\n- Kate Beckinsale\\n- Jim Sturgess\\n- Brendan Gleeson\\n- Holland Taylor\\n- Nadia Dajani\\n- Marisa Tomei\\n- Vincent D'Onofrio\\n\\nThis information is derived directly from the context provided.\"}\n",
      "Which actors starred together in the same movie as Bruce Willis and later appeared in a movie directed by the same person who directed Bruce Willis before?\n"
     ]
    }
   ],
   "source": [
    "results = []\n",
    "latencies = []\n",
    "for question in test_df['Question']:\n",
    "    print(question)\n",
    "    start = time.time()\n",
    "    try:\n",
    "        data = await flow.run(input=question)\n",
    "    except:\n",
    "        data = \"timeout\"\n",
    "    end = time.time()\n",
    "    latencies.append(end - start)\n",
    "    results.append(data)\n",
    "    print(data)\n",
    "    "
   ]
  },
  {
   "cell_type": "code",
   "execution_count": null,
   "id": "00f34513-0ee8-4993-8f15-523b30202628",
   "metadata": {},
   "outputs": [],
   "source": []
  }
 ],
 "metadata": {
  "kernelspec": {
   "display_name": "Python 3 (ipykernel)",
   "language": "python",
   "name": "python3"
  },
  "language_info": {
   "codemirror_mode": {
    "name": "ipython",
    "version": 3
   },
   "file_extension": ".py",
   "mimetype": "text/x-python",
   "name": "python",
   "nbconvert_exporter": "python",
   "pygments_lexer": "ipython3",
   "version": "3.11.5"
  }
 },
 "nbformat": 4,
 "nbformat_minor": 5
}
