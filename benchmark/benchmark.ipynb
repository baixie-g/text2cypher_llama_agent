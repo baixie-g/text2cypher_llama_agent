{
 "cells": [
  {
   "cell_type": "code",
   "execution_count": 1,
   "id": "bc911b0b-4e15-401e-9875-e43c25470daa",
   "metadata": {},
   "outputs": [],
   "source": [
    "import sys\n",
    "import os\n",
    "\n",
    "# Insert the parent directory of \"app\" into sys.path\n",
    "# so that Python recognizes \"app\" as an importable package.\n",
    "notebook_dir = os.path.dirname(os.path.abspath(\"__file__\"))\n",
    "parent_dir = os.path.abspath(os.path.join(notebook_dir, \"..\"))\n",
    "sys.path.append(parent_dir)"
   ]
  },
  {
   "cell_type": "code",
   "execution_count": 2,
   "id": "85258025-55e3-45db-b6a5-29004264c7c5",
   "metadata": {},
   "outputs": [
    {
     "data": {
      "text/plain": [
       "True"
      ]
     },
     "execution_count": 2,
     "metadata": {},
     "output_type": "execute_result"
    }
   ],
   "source": [
    "from dotenv import load_dotenv\n",
    "load_dotenv()  # This looks for .env in the current working directory"
   ]
  },
  {
   "cell_type": "code",
   "execution_count": 3,
   "id": "4329aafd-3e8c-4acb-abdf-fcedd3f95e20",
   "metadata": {},
   "outputs": [
    {
     "data": {
      "text/plain": [
       "'\\nimport time\\nstart = time.time()\\nfrom app.workflows.naive_text2cypher import NaiveText2CypherFlow\\nend = time.time()\\nprint(f\"Import took {end - start:.2f} seconds\")\\nflow = NaiveText2CypherFlow(verbose=True, timeout=30)\\n'"
      ]
     },
     "execution_count": 3,
     "metadata": {},
     "output_type": "execute_result"
    }
   ],
   "source": [
    "\"\"\"\n",
    "import time\n",
    "start = time.time()\n",
    "from app.workflows.naive_text2cypher import NaiveText2CypherFlow\n",
    "end = time.time()\n",
    "print(f\"Import took {end - start:.2f} seconds\")\n",
    "flow = NaiveText2CypherFlow(verbose=True, timeout=30)\n",
    "\"\"\""
   ]
  },
  {
   "cell_type": "code",
   "execution_count": 4,
   "id": "ba125d4e-f02c-4490-8dc2-e5b4d5eb7a05",
   "metadata": {},
   "outputs": [
    {
     "name": "stderr",
     "output_type": "stream",
     "text": [
      "/Users/tomazbratanic/anaconda3/lib/python3.11/site-packages/pandas/core/arrays/masked.py:60: UserWarning: Pandas requires version '1.3.6' or newer of 'bottleneck' (version '1.3.5' currently installed).\n",
      "  from pandas.core import (\n",
      "/Users/tomazbratanic/anaconda3/lib/python3.11/site-packages/pydantic/_internal/_fields.py:132: UserWarning: Field \"model_name\" in HuggingFaceInferenceAPIEmbeddings has conflict with protected namespace \"model_\".\n",
      "\n",
      "You may be able to resolve this warning by setting `model_config['protected_namespaces'] = ()`.\n",
      "  warnings.warn(\n"
     ]
    },
    {
     "name": "stdout",
     "output_type": "stream",
     "text": [
      "Import took 10.63 seconds\n"
     ]
    }
   ],
   "source": [
    "import time\n",
    "start = time.time()\n",
    "from app.workflows.naive_text2cypher_retry import NaiveText2CypherRetryFlow\n",
    "end = time.time()\n",
    "print(f\"Import took {end - start:.2f} seconds\")\n",
    "flow = NaiveText2CypherRetryFlow(verbose=False, timeout=30)"
   ]
  },
  {
   "cell_type": "code",
   "execution_count": 5,
   "id": "041de039-c410-417f-bec2-9b92a70cdf82",
   "metadata": {},
   "outputs": [
    {
     "data": {
      "text/html": [
       "<div>\n",
       "<style scoped>\n",
       "    .dataframe tbody tr th:only-of-type {\n",
       "        vertical-align: middle;\n",
       "    }\n",
       "\n",
       "    .dataframe tbody tr th {\n",
       "        vertical-align: top;\n",
       "    }\n",
       "\n",
       "    .dataframe thead th {\n",
       "        text-align: right;\n",
       "    }\n",
       "</style>\n",
       "<table border=\"1\" class=\"dataframe\">\n",
       "  <thead>\n",
       "    <tr style=\"text-align: right;\">\n",
       "      <th></th>\n",
       "      <th>Question</th>\n",
       "    </tr>\n",
       "  </thead>\n",
       "  <tbody>\n",
       "    <tr>\n",
       "      <th>0</th>\n",
       "      <td>Who acted in Tom Hanks’s highest-rated movie?</td>\n",
       "    </tr>\n",
       "    <tr>\n",
       "      <th>1</th>\n",
       "      <td>Which movie starring Meg Ryan has the most act...</td>\n",
       "    </tr>\n",
       "    <tr>\n",
       "      <th>2</th>\n",
       "      <td>Who directed the most recent movie starring Ha...</td>\n",
       "    </tr>\n",
       "    <tr>\n",
       "      <th>3</th>\n",
       "      <td>Which actors starred together in the same movi...</td>\n",
       "    </tr>\n",
       "    <tr>\n",
       "      <th>4</th>\n",
       "      <td>What is the highest-rated movie from the 1990s...</td>\n",
       "    </tr>\n",
       "  </tbody>\n",
       "</table>\n",
       "</div>"
      ],
      "text/plain": [
       "                                            Question\n",
       "0      Who acted in Tom Hanks’s highest-rated movie?\n",
       "1  Which movie starring Meg Ryan has the most act...\n",
       "2  Who directed the most recent movie starring Ha...\n",
       "3  Which actors starred together in the same movi...\n",
       "4  What is the highest-rated movie from the 1990s..."
      ]
     },
     "execution_count": 5,
     "metadata": {},
     "output_type": "execute_result"
    }
   ],
   "source": [
    "import pandas as pd\n",
    "\n",
    "test_df = pd.read_csv('test_data.csv')\n",
    "test_df.head()"
   ]
  },
  {
   "cell_type": "code",
   "execution_count": null,
   "id": "761792cf-9f64-49d2-9d56-79cc7140b0f5",
   "metadata": {},
   "outputs": [
    {
     "name": "stdout",
     "output_type": "stream",
     "text": [
      "Who acted in Tom Hanks’s highest-rated movie?\n",
      "{'cypher': \"MATCH (p:Person {name: 'Tom Hanks'})-[:ACTED_IN]->(m:Movie)\\nWITH m\\nORDER BY m.imdbRating DESC LIMIT 1\\nMATCH (m)<-[:ACTED_IN]-(a:Person)\\nRETURN a.name, m.title\", 'question': 'Who acted in Tom Hanks’s highest-rated movie?', 'answer': \"Based on the context provided, Tom Hanks's highest-rated movie is *From the Earth to the Moon*. The actors who acted in this movie alongside Tom Hanks are:\\n\\n- David Andrews\\n- Lane Smith\\n- Nick Searcy\\n\\nThis conclusion is drawn from the Cypher query and the returned data, which lists the actors (`a.name`) and the movie title (`m.title`).\"}\n",
      "Which movie starring Meg Ryan has the most actors in common with a Tom Hanks movie?\n",
      "{'cypher': \"MATCH (meg:Person {name: 'Meg Ryan'})-[:ACTED_IN]->(megMovie:Movie)<-[:ACTED_IN]-(megActors:Person),\\n      (tom:Person {name: 'Tom Hanks'})-[:ACTED_IN]->(tomMovie:Movie)<-[:ACTED_IN]-(tomActors:Person)\\nWHERE megActors = tomActors\\nWITH megMovie, COUNT(DISTINCT megActors) AS commonActorsCount\\nORDER BY commonActorsCount DESC\\nLIMIT 1\\nRETURN megMovie.title, commonActorsCount\", 'question': 'Which movie starring Meg Ryan has the most actors in common with a Tom Hanks movie?', 'answer': 'Based on the context provided, the movie starring Meg Ryan that has the most actors in common with a Tom Hanks movie is **\"Courage Under Fire\"**, with **1 actor** in common. \\n\\nThis conclusion is drawn directly from the query result, which identifies \"Courage Under Fire\" as the movie with the highest count of shared actors between Meg Ryan and Tom Hanks movies.'}\n",
      "Who directed the most recent movie starring Halle Berry, and which other actors starred in that director’s earlier movies?\n",
      "{'cypher': 'MATCH (p:Person {name: \"Halle Berry\"})-[:ACTED_IN]->(m:Movie)<-[:DIRECTED]-(d:Person)\\nWITH d, m\\nORDER BY m.released DESC\\nLIMIT 1\\nMATCH (d)-[:DIRECTED]->(earlier:Movie)<-[:ACTED_IN]-(a:Person)\\nWHERE earlier <> m\\nRETURN d.name AS director, m.title AS mostRecentMovie, COLLECT(DISTINCT a.name) AS otherActorsInEarlierMovies', 'question': 'Who directed the most recent movie starring Halle Berry, and which other actors starred in that director’s earlier movies?', 'answer': \"The most recent movie starring Halle Berry, as per the context, is *The Call*, which was directed by **Brad Anderson**. Other actors who starred in Brad Anderson's earlier movies include:\\n\\n- Hope Davis\\n- Ken Cheeseman\\n- Callie Thorne\\n- Philip Seymour Hoffman\\n- Paul Guilfoyle\\n- David Caruso\\n- Josh Lucas\\n- Stephen Gevedon\\n- Christian Bale\\n- Jennifer Jason Leigh\\n- Aitana Sánchez-Gijón\\n- John Sharian\\n- David Thewlis\\n- Kate Beckinsale\\n- Jim Sturgess\\n- Brendan Gleeson\\n- Holland Taylor\\n- Nadia Dajani\\n- Marisa Tomei\\n- Vincent D'Onofrio\\n\\nThis information is derived directly from the context provided.\"}\n",
      "Which actors starred together in the same movie as Bruce Willis and later appeared in a movie directed by the same person who directed Bruce Willis before?\n"
     ]
    },
    {
     "name": "stderr",
     "output_type": "stream",
     "text": [
      "Exception in callback Dispatcher.span.<locals>.wrapper.<locals>.handle_future_result(span_id='Workflow.run...-f3f5e4b803f8', bound_args=<BoundArgumen...is before?'})>, instance=<app.workflow...t 0x34ebc8850>, context=<_contextvars...t 0x34eeee3c0>)(<WorkflowHand... 30 seconds')>) at /Users/tomazbratanic/anaconda3/lib/python3.11/site-packages/llama_index/core/instrumentation/dispatcher.py:273\n",
      "handle: <Handle Dispatcher.span.<locals>.wrapper.<locals>.handle_future_result(span_id='Workflow.run...-f3f5e4b803f8', bound_args=<BoundArgumen...is before?'})>, instance=<app.workflow...t 0x34ebc8850>, context=<_contextvars...t 0x34eeee3c0>)(<WorkflowHand... 30 seconds')>) at /Users/tomazbratanic/anaconda3/lib/python3.11/site-packages/llama_index/core/instrumentation/dispatcher.py:273>\n",
      "Traceback (most recent call last):\n",
      "  File \"/Users/tomazbratanic/anaconda3/lib/python3.11/asyncio/events.py\", line 80, in _run\n",
      "    self._context.run(self._callback, *self._args)\n",
      "  File \"/Users/tomazbratanic/anaconda3/lib/python3.11/site-packages/llama_index/core/instrumentation/dispatcher.py\", line 285, in handle_future_result\n",
      "    raise exception\n",
      "  File \"/Users/tomazbratanic/anaconda3/lib/python3.11/site-packages/llama_index/core/workflow/workflow.py\", line 445, in _run_workflow\n",
      "    raise WorkflowTimeoutError(msg)\n",
      "llama_index.core.workflow.errors.WorkflowTimeoutError: Operation timed out after 30 seconds\n"
     ]
    },
    {
     "name": "stdout",
     "output_type": "stream",
     "text": [
      "timeout\n",
      "What is the highest-rated movie from the 1990s, who directed it, and which other films did that director make?\n",
      "{'cypher': 'MATCH (m:Movie)-[:DIRECTED]-(d:Person) \\nWHERE m.year >= 1990 AND m.year < 2000 \\nWITH m, d \\nORDER BY m.imdbRating DESC \\nLIMIT 1 \\nMATCH (d)-[:DIRECTED]->(other:Movie) \\nRETURN m.title AS highestRatedMovie, m.imdbRating AS rating, d.name AS director, COLLECT(other.title) AS otherMovies;', 'question': 'What is the highest-rated movie from the 1990s, who directed it, and which other films did that director make?', 'answer': 'The highest-rated movie from the 1990s is **\"The Shawshank Redemption\"**, with an IMDb rating of **9.3**. It was directed by **Frank Darabont**. Other films directed by Frank Darabont include **\"The Majestic\"**, **\"The Green Mile\"**, and **\"The Mist\"**. \\n\\nThis information is directly derived from the provided context.'}\n",
      "For all movies starring Keanu Reeves, find the director who worked the most times with him and list the co-stars across those collaborations.\n",
      "{'cypher': 'MATCH (keanu:Person {name: \"Keanu Reeves\"})-[:ACTED_IN]->(m:Movie)<-[:ACTED_IN]-(co:Person)\\nMATCH (m)<-[:DIRECTED]-(d:Person)\\nWITH d, co, COUNT(m) AS collaborations\\nORDER BY collaborations DESC\\nLIMIT 1\\nMATCH (d)-[:DIRECTED]->(m:Movie)<-[:ACTED_IN]-(keanu)\\nMATCH (m)<-[:ACTED_IN]-(co:Person)\\nWHERE co.name <> \"Keanu Reeves\"\\nRETURN d.name AS director, COLLECT(DISTINCT co.name) AS co_stars, collaborations', 'question': 'For all movies starring Keanu Reeves, find the director who worked the most times with him and list the co-stars across those collaborations.', 'answer': 'Based on the context provided, the director who worked the most times with Keanu Reeves is **Lana Wachowski**, with **2 collaborations**. Across these collaborations, the co-star who appeared alongside Keanu Reeves is **Carrie-Anne Moss**.\\n\\nThis conclusion is drawn directly from the context, which specifies the director, the number of collaborations, and the co-star involved. No additional information is needed to answer the question.'}\n",
      "Find the actor who has starred with Tom Hanks, Meg Ryan, and Bruce Willis, and in which movie(s) did these collaborations happen?\n",
      "{'cypher': \"MATCH (a:Person)-[:ACTED_IN]->(m:Movie)<-[:ACTED_IN]-(p:Person)\\nWHERE p.name IN ['Tom Hanks', 'Meg Ryan', 'Bruce Willis']\\nWITH a, m, COLLECT(DISTINCT p.name) AS coActors\\nWHERE 'Tom Hanks' IN coActors AND 'Meg Ryan' IN coActors AND 'Bruce Willis' IN coActors\\nRETURN a.name AS Actor, m.title AS Movie;\", 'question': 'Find the actor who has starred with Tom Hanks, Meg Ryan, and Bruce Willis, and in which movie(s) did these collaborations happen?', 'answer': 'The context retrieved from the Neo4j database is empty (`[]`), meaning no data was found that matches the query. This indicates that there is no actor who has starred in a movie with Tom Hanks, Meg Ryan, and Bruce Willis together, based on the database\\'s current information.\\n\\nIf you believe this result might be incomplete or incorrect, additional details could help refine the query or confirm the data:\\n1. Verify if the database contains all relevant movies and actors.\\n2. Confirm if the names \"Tom Hanks,\" \"Meg Ryan,\" and \"Bruce Willis\" are correctly spelled and match the database entries.\\n\\nLet me know if you\\'d like assistance with refining the query or exploring other possibilities!'}\n",
      "Which 1980s movie with Meryl Streep was directed by someone who had previously acted in a different Meryl Streep film?\n",
      "{'cypher': 'MATCH (m1:Movie)-[:ACTED_IN]-(p:Person)-[:DIRECTED]->(m2:Movie)\\nWHERE m2.year >= 1980 AND m2.year < 1990 AND m2.title CONTAINS \"Meryl Streep\"\\nAND (p)-[:ACTED_IN]->(m3:Movie)-[:ACTED_IN]->(:Person {name: \"Meryl Streep\"})\\nRETURN m2.title AS MovieTitle, m2.year AS ReleaseYear, p.name AS DirectorName', 'question': 'Which 1980s movie with Meryl Streep was directed by someone who had previously acted in a different Meryl Streep film?', 'answer': \"The context provided indicates that the Cypher query used to retrieve the data contains a syntax error. Specifically, the error occurs because the query attempts to introduce a new variable (`m3`) within a pattern expression, which is not allowed in Neo4j.\\n\\nAs a result, the query did not execute successfully, and no data was retrieved. Therefore, it is not possible to determine which 1980s movie with Meryl Streep was directed by someone who had previously acted in a different Meryl Streep film.\\n\\nTo resolve this issue and answer the question, the query needs to be corrected. Specifically, the part of the query introducing `m3` should be rewritten to comply with Neo4j's syntax rules. Once the query is corrected and executed successfully, the resulting data can be analyzed to provide an answer.\\n\\nWould you like assistance in rewriting the query or further clarification on the error?\"}\n",
      "Which horror movie has the highest rating, who directed it, and which actors are in?\n",
      "{'cypher': 'MATCH (m:Movie)-[:IN_GENRE]->(g:Genre {name: \"Horror\"})<-[:DIRECTED]-(d:Person), (m)<-[:ACTED_IN]-(a:Person) \\nRETURN m.title AS movieTitle, m.imdbRating AS rating, d.name AS director, COLLECT(a.name) AS actors \\nORDER BY m.imdbRating DESC \\nLIMIT 1', 'question': 'Which horror movie has the highest rating, who directed it, and which actors are in?', 'answer': 'The context provided is empty (`[]`), meaning the query did not return any results from the Neo4j database. This indicates that there is no horror movie in the database that matches the criteria specified in the query.\\n\\nTo answer your question, additional information or clarification is needed. Specifically:\\n1. Confirm whether there are any horror movies in the database at all.\\n2. Verify if the query is correctly structured to retrieve the desired data.\\n3. Check if the database contains data for movies, genres, directors, and actors.\\n\\nWithout this information, I cannot determine which horror movie has the highest rating, who directed it, or which actors are in it.'}\n",
      "Find the director of the drama movie that has the longest runtime, and list all their movies that are under two hours.\n",
      "{'cypher': \"MATCH (m:Movie)-[:IN_GENRE]->(g:Genre {name: 'Drama'})<-[:DIRECTED]-(d:Person)\\nWITH d, m ORDER BY m.runtime DESC LIMIT 1\\nMATCH (d)-[:DIRECTED]->(shortMovies:Movie)\\nWHERE shortMovies.runtime < 120\\nRETURN d.name AS director, shortMovies.title AS movieTitle\", 'question': 'Find the director of the drama movie that has the longest runtime, and list all their movies that are under two hours.', 'answer': 'The context provided is empty (`[]`), meaning the query did not return any results from the Neo4j database. This could indicate that:\\n\\n1. There is no drama movie in the database with a director who also directed movies under two hours.\\n2. The database does not contain sufficient data to satisfy the query.\\n\\nAs a result, I cannot identify the director of the longest drama movie or list their movies under two hours. \\n\\nTo proceed, additional information or clarification is needed:\\n- Confirm if there are any drama movies in the database.\\n- Verify if there are directors associated with drama movies who also directed shorter movies (runtime < 120 minutes).\\n\\nLet me know if you would like to refine the query or explore other related data.'}\n",
      "Which actor starred in both a romantic comedy and a crime thriller?\n",
      "{'cypher': \"MATCH (a:Person)-[:ACTED_IN]->(:Movie)-[:IN_GENRE]->(g1:Genre), \\n      (a)-[:ACTED_IN]->(:Movie)-[:IN_GENRE]->(g2:Genre) \\nWHERE g1.name = 'Romantic Comedy' AND g2.name = 'Crime Thriller' \\nRETURN DISTINCT a.name\", 'question': 'Which actor starred in both a romantic comedy and a crime thriller?', 'answer': 'The context retrieved from the Neo4j database is empty (`[]`), which means no actors were found who starred in both a romantic comedy and a crime thriller based on the query provided.\\n\\n**Answer:** No actor was identified in the database as having starred in both a romantic comedy and a crime thriller. If you believe there should be results, additional data or a review of the database may be necessary.'}\n",
      "Which pair of actors have starred in the largest number of movies together and who directed most of those collaborations?\n",
      "{'cypher': 'MATCH (a1:Person)-[:ACTED_IN]->(m:Movie)<-[:ACTED_IN]-(a2:Person), \\n      (d:Person)-[:DIRECTED]->(m)\\nWHERE a1 <> a2\\nWITH a1, a2, d, COUNT(m) AS movieCount\\nORDER BY movieCount DESC\\nLIMIT 1\\nRETURN a1.name AS Actor1, a2.name AS Actor2, movieCount, d.name AS Director;', 'question': 'Which pair of actors have starred in the largest number of movies together and who directed most of those collaborations?', 'answer': 'Based on the context provided, the pair of actors who have starred in the largest number of movies together are **Jacqueline Bassett** and **Bruce Balden**, having collaborated in **7 movies**. The director who directed most of those collaborations is **Michael Apted**. \\n\\nThis conclusion is drawn directly from the retrieved data, which specifies the actors, the number of movies, and the director.'}\n",
      "Name the actor who starred with Harrison Ford in at least two movies.\n",
      "{'cypher': \"MATCH (h:Person {name: 'Harrison Ford'})-[:ACTED_IN]->(m:Movie)<-[:ACTED_IN]-(a:Person) \\nWITH a, COUNT(DISTINCT m) AS movieCount \\nWHERE movieCount >= 2 \\nRETURN a.name\", 'question': 'Name the actor who starred with Harrison Ford in at least two movies.', 'answer': 'Based on the context provided, the actors who starred with Harrison Ford in at least two movies are:\\n\\n- Karen Allen\\n- Mark Hamill\\n- Carrie Fisher\\n- Anne Archer\\n- Billy Dee Williams\\n\\nThis conclusion is drawn from the query results, which list these actors as having acted in at least two movies with Harrison Ford.'}\n",
      "Which actors appear in both a movie directed by Quentin Tarantino and another directed by the Wachowskis.\n",
      "{'cypher': 'MATCH (a:Person)-[:ACTED_IN]->(m1:Movie)<-[:DIRECTED]-(d1:Person {name: \"Quentin Tarantino\"}), \\n      (a)-[:ACTED_IN]->(m2:Movie)<-[:DIRECTED]-(d2:Person {name: \"The Wachowskis\"})\\nRETURN DISTINCT a.name', 'question': 'Which actors appear in both a movie directed by Quentin Tarantino and another directed by the Wachowskis.', 'answer': 'The context retrieved from the Neo4j database is empty (`[]`), meaning no actors were found who appeared in both a movie directed by Quentin Tarantino and another directed by the Wachowskis.\\n\\n**Answer:** There are no actors who appear in both a movie directed by Quentin Tarantino and another directed by the Wachowskis based on the provided context.'}\n",
      "Which actors have starred in movies rated below 5 and also in movies rated above 9?\n",
      "{'cypher': 'MATCH (a:Person)-[:ACTED_IN]->(m1:Movie)<-[:RATED]-(u1:User), \\n      (a)-[:ACTED_IN]->(m2:Movie)<-[:RATED]-(u2:User) \\nWHERE u1.rating < 5 AND u2.rating > 9 \\nRETURN DISTINCT a.name', 'question': 'Which actors have starred in movies rated below 5 and also in movies rated above 9?', 'answer': 'The context retrieved from the Neo4j database is empty (`[]`), meaning no actors were found who have starred in movies rated below 5 and also in movies rated above 9 based on the given query.\\n\\nAnswer: No actors meet the specified criteria according to the provided context.'}\n",
      "Among comedy films that grossed over $100 million, which one features the oldest actor.\n",
      "{'cypher': \"MATCH (m:Movie)-[:IN_GENRE]->(g:Genre {name: 'Comedy'}), (p:Person)-[:ACTED_IN]->(m)\\nWHERE m.revenue > 100000000\\nRETURN m.title, p.name, p.born\\nORDER BY p.born ASC\\nLIMIT 1\", 'question': 'Among comedy films that grossed over $100 million, which one features the oldest actor.', 'answer': 'Based on the context provided, the comedy film that grossed over $100 million and features the oldest actor is **\"Pretty Woman\"**. The actor is **Ralph Bellamy**, who was born on **June 17, 1904**. \\n\\nThis conclusion is drawn from the query\\'s result, which orders actors by their birthdate in ascending order, ensuring the oldest actor is listed first.'}\n",
      "Which directors have themselves acted in at least three of their own movies?\n",
      "{'cypher': 'MATCH (d:Person)-[:DIRECTED]->(m:Movie)<-[:ACTED_IN]-(d)\\nWITH d, COUNT(m) AS actedInCount\\nWHERE actedInCount >= 3\\nRETURN d.name, actedInCount', 'question': 'Which directors have themselves acted in at least three of their own movies?', 'answer': 'Based on the context provided, the directors who have acted in at least three of their own movies are:\\n\\n1. Woody Allen (19 movies)\\n2. Nick Broomfield (3 movies)\\n3. Clint Eastwood (20 movies)\\n4. Kenneth Branagh (7 movies)\\n5. Kevin Costner (3 movies)\\n6. Spike Lee (4 movies)\\n7. Danny DeVito (5 movies)\\n8. Gene Kelly (3 movies)\\n9. Tommy Chong (4 movies)\\n10. Orson Welles (4 movies)\\n11. Charlie Chaplin (9 movies)\\n12. Barbra Streisand (3 movies)\\n13. Albert Brooks (6 movies)\\n14. Robert Redford (3 movies)\\n15. Takeshi Kitano (5 movies)\\n16. Michael Moore (4 movies)\\n17. Emilio Estevez (3 movies)\\n18. Mel Brooks (4 movies)\\n19. Roberto Benigni (3 movies)\\n20. Trey Parker (4 movies)\\n21. Sylvester Stallone (6 movies)\\n22. Warren Beatty (3 movies)\\n23. Jackie Chan (8 movies)\\n24. Werner Herzog (8 movies)\\n25. Buster Keaton (13 movies)\\n26. John Wayne (3 movies)\\n27. Ben Stiller (3 movies)\\n28. Alan Alda (3 movies)\\n29. George Clooney (3 movies)\\n30. Alex van Warmerdam (4 movies)\\n31. Ricky Gervais (3 movies)\\n32. Edward F. Cline (4 movies)\\n33. Louis C.K. (5 movies)\\n34. Seth MacFarlane (3 movies)\\n\\nThese individuals meet the criteria of having directed and acted in at least three of their own movies, as indicated by the `actedInCount` values in the context.'}\n",
      "What is the most common language among movies with a budget lower than 10 million dollars?\n",
      "{'cypher': 'MATCH (m:Movie) \\nWHERE m.budget < 10000000 \\nUNWIND m.languages AS language \\nRETURN language, COUNT(language) AS languageCount \\nORDER BY languageCount DESC \\nLIMIT 1', 'question': 'What is the most common language among movies with a budget lower than 10 million dollars?', 'answer': 'The most common language among movies with a budget lower than 10 million dollars is **English**, as it appears 1,500 times in the dataset. This conclusion is based on the context provided, which shows that English has the highest `languageCount` in the query results.'}\n",
      "Identify the first 3 genres most frequently linked to movies directed by 'Steven Spielberg'.\n",
      "{'cypher': \"MATCH (p:Person {name: 'Steven Spielberg'})-[:DIRECTED]->(m:Movie)-[:IN_GENRE]->(g:Genre)\\nRETURN g.name, COUNT(g) AS genreCount\\nORDER BY genreCount DESC\\nLIMIT 3\", 'question': \"Identify the first 3 genres most frequently linked to movies directed by 'Steven Spielberg'.\", 'answer': 'Based on the context provided, the first 3 genres most frequently linked to movies directed by Steven Spielberg are:\\n\\n1. **Drama** (16 movies)\\n2. **Action** (14 movies)\\n3. **Adventure** (11 movies)\\n\\nThis ranking is determined by the `genreCount` values, which represent the number of movies in each genre directed by Steven Spielberg, ordered in descending order.'}\n",
      "List the top 5 oldest actors in the database.\n",
      "{'cypher': 'MATCH (p:Person) \\nWHERE p.born IS NOT NULL \\nRETURN p.name, p.born \\nORDER BY p.born ASC \\nLIMIT 5', 'question': 'List the top 5 oldest actors in the database.', 'answer': 'Based on the context provided, the top 5 oldest individuals in the database (ordered by birthdate in ascending order) are:\\n\\n1. Ron Smerczak - Born on March 7, 1649  \\n2. Paul von Hindenburg - Born on October 2, 1847  \\n3. Maggie Moore - Born on April 10, 1851  \\n4. Eugene Silvain - Born on June 17, 1851  \\n5. Monte Collins - Born on January 1, 1856  \\n\\nHowever, the context does not specify whether all these individuals are actors. If you are specifically looking for actors, additional information is needed to confirm their professions. Please clarify if you need this filtered by profession or if the list as provided suffices.'}\n",
      "List the top 5 movies with the most IMDb votes.\n",
      "{'cypher': 'MATCH (m:Movie) \\nRETURN m.title, m.imdbVotes \\nORDER BY m.imdbVotes DESC \\nLIMIT 5', 'question': 'List the top 5 movies with the most IMDb votes.', 'answer': 'The context provided does not include IMDb vote counts (`m.imdbVotes`) for any of the movies listed. All the `m.imdbVotes` values are `None`, which means there is no information available to determine the top 5 movies with the most IMDb votes.\\n\\nTo answer the question accurately, the IMDb vote counts for the movies need to be available. Please provide data where `m.imdbVotes` contains actual numerical values for the movies.'}\n",
      "Which 3 movies have the highest revenue to budget ratio?\n",
      "{'cypher': 'MATCH (m:Movie) \\nWHERE m.budget > 0 \\nRETURN m.title, m.revenue / m.budget AS revenueToBudgetRatio \\nORDER BY revenueToBudgetRatio DESC \\nLIMIT 3', 'question': 'Which 3 movies have the highest revenue to budget ratio?', 'answer': 'The context indicates that the query was intended to find the top 3 movies with the highest revenue-to-budget ratio. However, the retrieved data shows that the `revenueToBudgetRatio` for all three movies is `None`. This means the database does not have sufficient information to calculate or determine the revenue-to-budget ratio for these movies.\\n\\n### Answer:\\nThe context does not provide sufficient information to determine which 3 movies have the highest revenue-to-budget ratio. Additional data on the revenue and budget for these movies is required to calculate the ratio.'}\n",
      "What is the name of the genre associated with the movie 'Jumanji'?\n",
      "{'cypher': \"MATCH (m:Movie {title: 'Jumanji'})-[:IN_GENRE]->(g:Genre) RETURN g.name\", 'question': \"What is the name of the genre associated with the movie 'Jumanji'?\", 'answer': \"The movie 'Jumanji' is associated with the genres **Adventure**, **Children**, and **Fantasy**. \\n\\nThis conclusion is based on the context retrieved, which explicitly lists these genres as being linked to the movie 'Jumanji' through the `IN_GENRE` relationship in the Neo4j database.\"}\n",
      "Name the top 5 movies with the most IMDb votes released before the year 2000.\n",
      "{'cypher': 'MATCH (m:Movie) \\nWHERE m.year < 2000 \\nRETURN m.title, m.imdbVotes \\nORDER BY m.imdbVotes DESC \\nLIMIT 5', 'question': 'Name the top 5 movies with the most IMDb votes released before the year 2000.', 'answer': 'Based on the context provided, the top 5 movies with the most IMDb votes released before the year 2000 are:\\n\\n1. **The Shawshank Redemption** with 1,626,900 IMDb votes.\\n2. **Fight Club** with 1,287,410 IMDb votes.\\n\\nThe other three movies listed in the context, **This Is Spinal Tap**, **Burn Up!**, and **The Great Gatsby**, do not have IMDb vote counts provided (their `m.imdbVotes` values are `None`). Therefore, it is unclear if they should be included in the top 5 or not.\\n\\n### Additional Information Needed:\\nTo provide a complete and accurate list of the top 5 movies, the IMDb vote counts for **This Is Spinal Tap**, **Burn Up!**, and **The Great Gatsby** are required. Without this data, the ranking cannot be finalized.'}\n",
      "What is the average IMDb rating of movies with a runtime under 90 minutes?\n",
      "{'cypher': 'MATCH (m:Movie) \\nWHERE m.runtime < 90 \\nRETURN avg(m.imdbRating) AS averageRating', 'question': 'What is the average IMDb rating of movies with a runtime under 90 minutes?', 'answer': 'The average IMDb rating of movies with a runtime under 90 minutes is **6.54** (rounded to two decimal places). \\n\\nThis conclusion is based on the context provided, where the query calculates the average IMDb rating (`avg(m.imdbRating)`) for movies with a runtime less than 90 minutes, resulting in a value of **6.543643263757116**.'}\n",
      "List the top 3 directors by the number of movies directed.\n",
      "{'cypher': 'MATCH (d:Person)-[:DIRECTED]->(m:Movie) \\nRETURN d.name, COUNT(m) AS movieCount \\nORDER BY movieCount DESC \\nLIMIT 3', 'question': 'List the top 3 directors by the number of movies directed.', 'answer': 'Based on the context provided, the top 3 directors by the number of movies directed are:\\n\\n1. Woody Allen - 42 movies\\n2. Alfred Hitchcock - 38 movies\\n3. Martin Scorsese - 30 movies\\n\\nThis ranking is derived directly from the `movieCount` values in the context, which are sorted in descending order.'}\n",
      "What are the top 5 movies with the highest number of countries involved?\n",
      "{'cypher': 'MATCH (m:Movie) \\nRETURN m.title, size(m.countries) AS countryCount \\nORDER BY countryCount DESC \\nLIMIT 5', 'question': 'What are the top 5 movies with the highest number of countries involved?', 'answer': 'The context provided does not include the number of countries involved (`countryCount`) for any of the movies listed. All `countryCount` values are `None`, which means the data necessary to determine the top 5 movies with the highest number of countries involved is missing.\\n\\nTo answer the question, the `countryCount` values for each movie need to be available. Please provide the complete data with the actual `countryCount` values for the movies.'}\n",
      "List the top 5 actors by number of different genres they've acted in.\n",
      "{'cypher': 'MATCH (a:Person)-[:ACTED_IN]->(:Movie)-[:IN_GENRE]->(g:Genre) \\nRETURN a.name, COUNT(DISTINCT g) AS genreCount \\nORDER BY genreCount DESC \\nLIMIT 5', 'question': \"List the top 5 actors by number of different genres they've acted in.\", 'answer': \"Based on the context provided, the top 5 actors by the number of different genres they've acted in are:\\n\\n1. Kurt Russell (17 genres)\\n2. Brad Pitt (17 genres)\\n3. Johnny Depp (17 genres)\\n4. Samuel L. Jackson (17 genres)\\n5. Ewan McGregor (16 genres)\\n\\nThis ranking is determined by the `genreCount` value, which represents the number of distinct genres each actor has acted in. The list is ordered in descending order of `genreCount`, as specified in the Cypher query.\"}\n",
      "List 3 movies directed by 'Anthony Stacchi'.\n",
      "{'cypher': \"MATCH (p:Person {name: 'Anthony Stacchi'})-[:DIRECTED]->(m:Movie) \\nRETURN m.title \\nLIMIT 3\", 'question': \"List 3 movies directed by 'Anthony Stacchi'.\", 'answer': \"The context retrieved from the Neo4j database is empty (`[]`), which means no movies directed by 'Anthony Stacchi' were found based on the query provided. \\n\\nTo answer the question, additional information is needed. Specifically, it would be helpful to verify:\\n1. Whether 'Anthony Stacchi' is correctly spelled in the database.\\n2. If there are any movies associated with him in the database.\\n3. If the query is correctly structured to retrieve the desired information.\\n\\nWithout this additional data, I cannot list any movies directed by 'Anthony Stacchi'.\"}\n",
      "Which actor has the highest average IMDb rating across all of their movies released in the 21st century?\n",
      "{'cypher': 'MATCH (a:Person)-[:ACTED_IN]->(m:Movie) \\nWHERE m.year >= 2000 \\nRETURN a.name, AVG(m.imdbRating) AS avgRating \\nORDER BY avgRating DESC \\nLIMIT 1', 'question': 'Which actor has the highest average IMDb rating across all of their movies released in the 21st century?', 'answer': 'Based on the context provided, the actor with the highest average IMDb rating across all of their movies released in the 21st century is **Christian Karl Gerhartsreiter**, but their average IMDb rating is `None`. This indicates that there is no valid IMDb rating data available for their movies in the database.\\n\\nTo fully answer the question, additional information is needed:\\n1. Confirmation that the database contains valid IMDb ratings for movies released in the 21st century.\\n2. Verification that the query is correctly retrieving and calculating the average IMDb ratings.\\n\\nWithout this information, it is unclear if Christian Karl Gerhartsreiter truly has the highest average rating or if the data is incomplete.'}\n",
      "Who is the oldest actor to have portrayed a Marvel superhero, and which movie did they appear in last?\n",
      "{'cypher': 'MATCH (p:Person)-[:ACTED_IN]->(m:Movie)-[:IN_GENRE]->(g:Genre) \\nWHERE g.name CONTAINS \"Superhero\" \\nWITH p, m, p.born AS birthDate \\nORDER BY birthDate ASC \\nWITH p, COLLECT(m) AS movies \\nRETURN p.name AS actor, movies[-1].title AS lastMovie \\nLIMIT 1', 'question': 'Who is the oldest actor to have portrayed a Marvel superhero, and which movie did they appear in last?', 'answer': 'The context provided is empty (`[]`), meaning the query did not return any results from the Neo4j database. Therefore, there is no information available about the oldest actor to have portrayed a Marvel superhero or the last movie they appeared in.\\n\\nTo answer the question, additional data is required in the database. Specifically, the database should contain:\\n1. Information about actors who have acted in Marvel superhero movies.\\n2. The birthdates of these actors.\\n3. The movies they appeared in, categorized under the \"Superhero\" genre.\\n\\nIf this data exists but was not retrieved, the query may need to be adjusted to ensure it captures the relevant information.'}\n",
      "Among directors who have directed both horror and comedy films, which one has the highest combined revenue?\n",
      "{'cypher': \"MATCH (d:Person)-[:DIRECTED]->(m1:Movie)-[:IN_GENRE]->(g1:Genre), \\n      (d)-[:DIRECTED]->(m2:Movie)-[:IN_GENRE]->(g2:Genre)\\nWHERE g1.name = 'Horror' AND g2.name = 'Comedy'\\nWITH d, SUM(m1.revenue) + SUM(m2.revenue) AS totalRevenue\\nRETURN d.name, totalRevenue\\nORDER BY totalRevenue DESC\\nLIMIT 1\", 'question': 'Among directors who have directed both horror and comedy films, which one has the highest combined revenue?', 'answer': 'Based on the context provided, the director who has directed both horror and comedy films and has the highest combined revenue is **Wes Craven**, with a total revenue of **7,998,900,396**. \\n\\nThis conclusion is drawn from the Cypher query, which calculates the combined revenue of movies in the \"Horror\" and \"Comedy\" genres for each director and orders them by total revenue in descending order, returning the top result.'}\n",
      "Which actor has been directed the most times by Martin Scorsese, and for each collaboration, what was the movie’s IMDb rating?\n",
      "{'cypher': \"MATCH (d:Person {name: 'Martin Scorsese'})-[:DIRECTED]->(m:Movie)<-[:ACTED_IN]-(a:Person)\\nRETURN a.name, COUNT(m) AS collaborationCount, COLLECT({movie: m.title, imdbRating: m.imdbRating}) AS movies\\nORDER BY collaborationCount DESC\\nLIMIT 1\", 'question': 'Which actor has been directed the most times by Martin Scorsese, and for each collaboration, what was the movie’s IMDb rating?', 'answer': 'The actor who has been directed the most times by Martin Scorsese is **Robert De Niro**, with a total of **7 collaborations**. The IMDb ratings for each movie they collaborated on are as follows:\\n\\n1. *Cape Fear* - 7.3  \\n2. *Casino* - 8.2  \\n3. *New York, New York* - 6.7  \\n4. *The King of Comedy* - 7.8  \\n5. *Goodfellas* - 8.7  \\n6. *Mean Streets* - 7.4  \\n7. *Raging Bull* - 8.3  \\n\\nThis conclusion is based on the provided context, which explicitly lists Robert De Niro as the actor with the highest collaboration count with Martin Scorsese and includes the IMDb ratings for each movie.'}\n",
      "Find the director whose debut movie achieved the highest score.\n",
      "{'cypher': 'MATCH (d:Person)-[:DIRECTED]->(m:Movie)\\nWITH d, m\\nORDER BY d.name, m.year ASC\\nWITH d, COLLECT(m)[0] AS debutMovie\\nRETURN d.name, debutMovie.title, debutMovie.imdbRating\\nORDER BY debutMovie.imdbRating DESC\\nLIMIT 1', 'question': 'Find the director whose debut movie achieved the highest score.', 'answer': 'Based on the context provided, the debut movie \"Shin Godzilla\" directed by Shinji Higuchi has no IMDb rating (`imdbRating: None`). Since the query is designed to return the director whose debut movie achieved the highest IMDb score, and no IMDb rating is available in the context, it is not possible to determine the director with the highest-rated debut movie.\\n\\nAdditional information is needed: IMDb ratings for other directors\\' debut movies should be included in the context to make a valid comparison.'}\n",
      "Which actress made her debut in the highest-grossing comedy film of the 1980s?\n",
      "{'cypher': \"MATCH (m:Movie)-[:IN_GENRE]->(g:Genre), (p:Person)-[:ACTED_IN]->(m)\\nWHERE g.name = 'Comedy' AND m.year >= 1980 AND m.year < 1990\\nWITH m, p\\nORDER BY m.revenue DESC\\nLIMIT 1\\nRETURN p.name AS actress, m.title AS movie, m.revenue AS revenue\", 'question': 'Which actress made her debut in the highest-grossing comedy film of the 1980s?', 'answer': 'The context provided does not specify whether \"Private Benjamin\" was the highest-grossing comedy film of the 1980s, as the revenue for the movie is listed as `None`. Additionally, the context does not indicate whether \"Goldie Hawn\" made her debut in this film or if she had acted in other films prior to it.\\n\\nTo accurately answer the question, we need the following additional information:\\n1. The revenue of \"Private Benjamin\" to confirm if it was the highest-grossing comedy film of the 1980s.\\n2. Confirmation that \"Goldie Hawn\" made her acting debut in \"Private Benjamin.\"\\n\\nWithout this information, the question cannot be answered definitively.'}\n",
      "Which movie from the 2010s has the largest difference between revenue and budget, which countries produced it, and who directed it?\n",
      "{'cypher': 'MATCH (m:Movie)-[:IN_GENRE]->(g:Genre), (p:Person)-[:DIRECTED]->(m)\\nWHERE m.year >= 2010 AND m.year < 2020\\nWITH m, p, (m.revenue - m.budget) AS profit\\nORDER BY profit DESC LIMIT 1\\nRETURN m.title AS movie, profit AS largestDifference, m.countries AS countries, p.name AS director', 'question': 'Which movie from the 2010s has the largest difference between revenue and budget, which countries produced it, and who directed it?', 'answer': 'Based on the context provided, the movie from the 2010s with the largest difference between revenue and budget is **\"Temple Grandin\"**, directed by **Mick Jackson** and produced in the **USA**. However, the `largestDifference` value is `None`, indicating that the database does not have information about the actual difference between revenue and budget for this movie.\\n\\nIf you need the exact largest difference or confirmation that this movie indeed has the largest difference, additional data on revenue and budget for other movies in the 2010s would be required.'}\n",
      "Find the director whose movies have the highest average imdbRating but only considering movies under 100 minutes (runtime < 100). List those movies.\n",
      "{'cypher': 'MATCH (d:Person)-[:DIRECTED]->(m:Movie) \\nWHERE m.runtime < 100 \\nWITH d, m, avg(m.imdbRating) AS avgRating \\nORDER BY avgRating DESC \\nLIMIT 1 \\nRETURN d.name AS director, avgRating, collect(m.title) AS movies', 'question': 'Find the director whose movies have the highest average imdbRating but only considering movies under 100 minutes (runtime < 100). List those movies.', 'answer': \"Based on the context provided, the director whose movies have the highest average IMDb rating, considering only movies under 100 minutes, is **Herbert Brenon**. However, the average IMDb rating (`avgRating`) is listed as `None`, which means the database does not have sufficient information to calculate the average rating for his movies.\\n\\nThe movie(s) directed by Herbert Brenon under 100 minutes are: **['The Great Gatsby']**.\\n\\nIf you need the actual IMDb rating or a comparison with other directors, additional data on IMDb ratings for the movies is required.\"}\n",
      "Which actor has acted in the most languages across their filmography, and list those languages?\n",
      "{'cypher': 'MATCH (a:Person)-[:ACTED_IN]->(m:Movie) \\nWITH a, apoc.coll.flatten(COLLECT(m.languages)) AS allLanguages \\nRETURN a.name, COLLECT(DISTINCT allLanguages) AS languages, SIZE(COLLECT(DISTINCT allLanguages)) AS languageCount \\nORDER BY languageCount DESC \\nLIMIT 1', 'question': 'Which actor has acted in the most languages across their filmography, and list those languages?', 'answer': 'Based on the context provided, the actor who has acted in the most languages across their filmography is **Sam Jones**. The languages listed in the context are **English**. \\n\\nHowever, the `languages` field contains duplicate entries (e.g., `[\\'English\\', \\'English\\']` and `[\\'English\\']`), which suggests that the data might need cleaning or deduplication. Despite this, the `languageCount` is stated as 2, which seems inconsistent with the actual unique languages provided (only \"English\" is mentioned). \\n\\nIf the `languageCount` is accurate, additional clarification is needed to understand which other language(s) are included in the count but not explicitly listed in the `languages` field.'}\n",
      "Among all movies with a budget under $5,000,000, which one has the highest imdbRating, and which genres does it belong to?\n",
      "{'cypher': 'MATCH (m:Movie)-[:IN_GENRE]->(g:Genre) \\nWHERE m.budget < 5000000 \\nRETURN m.title, m.imdbRating, COLLECT(g.name) AS genres \\nORDER BY m.imdbRating DESC \\nLIMIT 1', 'question': 'Among all movies with a budget under $5,000,000, which one has the highest imdbRating, and which genres does it belong to?', 'answer': 'Based on the context provided, the movie \"No Direction Home: Bob Dylan\" is listed as having a budget under $5,000,000 and belongs to the \"Documentary\" genre. However, its IMDb rating is not available (`None`).\\n\\nSince the IMDb rating is missing, it is not possible to determine if this movie has the highest IMDb rating among all movies with a budget under $5,000,000. Additional information is needed, specifically the IMDb ratings of other movies in the same budget range, to accurately answer the question.'}\n",
      "Name the actor who has the largest difference between their earliest year and latest year of acting, and which genres are most common in their filmography?\n",
      "{'cypher': 'MATCH (a:Person)-[:ACTED_IN]->(m:Movie)-[:IN_GENRE]->(g:Genre)\\nWITH a, g.name AS genre, MIN(m.year) AS earliestYear, MAX(m.year) AS latestYear, MAX(m.year) - MIN(m.year) AS yearDifference\\nORDER BY yearDifference DESC LIMIT 1\\nWITH a, yearDifference, COLLECT(genre) AS genres\\nRETURN a.name AS actor, yearDifference, genres AS mostCommonGenres', 'question': 'Name the actor who has the largest difference between their earliest year and latest year of acting, and which genres are most common in their filmography?', 'answer': 'Based on the context provided, the actor is **Unshô Ishizuka**, and the most common genre in their filmography is **Adventure**. However, the \"yearDifference\" is listed as `None`, which means there is no information about the difference between their earliest and latest years of acting. \\n\\nIf you are specifically looking for the actor with the largest year difference, the context does not provide sufficient information to determine this, as the \"yearDifference\" is not defined. Additional data about the year differences for other actors would be needed to answer this accurately.'}\n",
      "Which director has made at least one movie in each of the following languages: English, French, and Spanish, and name the highest imdbRating film from each language category.\n"
     ]
    }
   ],
   "source": [
    "results = []\n",
    "latencies = []\n",
    "for question in test_df['Question']:\n",
    "    print(question)\n",
    "    start = time.time()\n",
    "    try:\n",
    "        data = await flow.run(input=question)\n",
    "    except:\n",
    "        data = \"timeout\"\n",
    "    end = time.time()\n",
    "    latencies.append(end - start)\n",
    "    results.append(data)\n",
    "    print(data)\n",
    "    "
   ]
  },
  {
   "cell_type": "code",
   "execution_count": null,
   "id": "00f34513-0ee8-4993-8f15-523b30202628",
   "metadata": {},
   "outputs": [],
   "source": []
  }
 ],
 "metadata": {
  "kernelspec": {
   "display_name": "Python 3 (ipykernel)",
   "language": "python",
   "name": "python3"
  },
  "language_info": {
   "codemirror_mode": {
    "name": "ipython",
    "version": 3
   },
   "file_extension": ".py",
   "mimetype": "text/x-python",
   "name": "python",
   "nbconvert_exporter": "python",
   "pygments_lexer": "ipython3",
   "version": "3.11.5"
  }
 },
 "nbformat": 4,
 "nbformat_minor": 5
}
