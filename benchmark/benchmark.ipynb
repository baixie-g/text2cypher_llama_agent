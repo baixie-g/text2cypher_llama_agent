{
 "cells": [
  {
   "cell_type": "code",
   "execution_count": 2,
   "id": "bc911b0b-4e15-401e-9875-e43c25470daa",
   "metadata": {},
   "outputs": [],
   "source": [
    "import sys\n",
    "import os\n",
    "\n",
    "# Insert the parent directory of \"app\" into sys.path\n",
    "# so that Python recognizes \"app\" as an importable package.\n",
    "notebook_dir = os.path.dirname(os.path.abspath(\"__file__\"))\n",
    "parent_dir = os.path.abspath(os.path.join(notebook_dir, \"..\"))\n",
    "sys.path.append(parent_dir)"
   ]
  },
  {
   "cell_type": "code",
   "execution_count": 3,
   "id": "85258025-55e3-45db-b6a5-29004264c7c5",
   "metadata": {},
   "outputs": [
    {
     "data": {
      "text/plain": [
       "True"
      ]
     },
     "execution_count": 3,
     "metadata": {},
     "output_type": "execute_result"
    }
   ],
   "source": [
    "from dotenv import load_dotenv\n",
    "load_dotenv()  # This looks for .env in the current working directory"
   ]
  },
  {
   "cell_type": "code",
   "execution_count": 4,
   "id": "70278d01-fe4a-47fe-91e5-ff91b67a046d",
   "metadata": {},
   "outputs": [
    {
     "name": "stderr",
     "output_type": "stream",
     "text": [
      "/Users/tomazbratanic/anaconda3/lib/python3.11/site-packages/pandas/core/arrays/masked.py:60: UserWarning: Pandas requires version '1.3.6' or newer of 'bottleneck' (version '1.3.5' currently installed).\n",
      "  from pandas.core import (\n",
      "/Users/tomazbratanic/anaconda3/lib/python3.11/site-packages/pydantic/_internal/_fields.py:132: UserWarning: Field \"model_name\" in _VertexAIBase has conflict with protected namespace \"model_\".\n",
      "\n",
      "You may be able to resolve this warning by setting `model_config['protected_namespaces'] = ()`.\n",
      "  warnings.warn(\n",
      "/Users/tomazbratanic/anaconda3/lib/python3.11/site-packages/pydantic/_internal/_fields.py:132: UserWarning: Field \"model_name\" in _VertexAICommon has conflict with protected namespace \"model_\".\n",
      "\n",
      "You may be able to resolve this warning by setting `model_config['protected_namespaces'] = ()`.\n",
      "  warnings.warn(\n"
     ]
    }
   ],
   "source": [
    "from ragas.metrics import (\n",
    "    answer_relevancy,\n",
    "    faithfulness,\n",
    "    context_recall,\n",
    "    context_precision,\n",
    ")\n",
    "\n",
    "from ragas import evaluate\n",
    "from ragas.llms import LlamaIndexLLMWrapper\n",
    "\n",
    "from app.workflows.utils import llm, graph_store"
   ]
  },
  {
   "cell_type": "code",
   "execution_count": 5,
   "id": "4329aafd-3e8c-4acb-abdf-fcedd3f95e20",
   "metadata": {},
   "outputs": [
    {
     "data": {
      "text/plain": [
       "'\\nimport time\\nstart = time.time()\\nfrom app.workflows.naive_text2cypher import NaiveText2CypherFlow\\nend = time.time()\\nprint(f\"Import took {end - start:.2f} seconds\")\\nflow = NaiveText2CypherFlow(verbose=True, timeout=30)\\n'"
      ]
     },
     "execution_count": 5,
     "metadata": {},
     "output_type": "execute_result"
    }
   ],
   "source": [
    "\"\"\"\n",
    "import time\n",
    "start = time.time()\n",
    "from app.workflows.naive_text2cypher import NaiveText2CypherFlow\n",
    "end = time.time()\n",
    "print(f\"Import took {end - start:.2f} seconds\")\n",
    "flow = NaiveText2CypherFlow(verbose=True, timeout=30)\n",
    "\"\"\""
   ]
  },
  {
   "cell_type": "code",
   "execution_count": 6,
   "id": "ba125d4e-f02c-4490-8dc2-e5b4d5eb7a05",
   "metadata": {},
   "outputs": [
    {
     "name": "stderr",
     "output_type": "stream",
     "text": [
      "/Users/tomazbratanic/anaconda3/lib/python3.11/site-packages/pydantic/_internal/_fields.py:132: UserWarning: Field \"model_name\" in HuggingFaceInferenceAPIEmbeddings has conflict with protected namespace \"model_\".\n",
      "\n",
      "You may be able to resolve this warning by setting `model_config['protected_namespaces'] = ()`.\n",
      "  warnings.warn(\n"
     ]
    },
    {
     "name": "stdout",
     "output_type": "stream",
     "text": [
      "Import took 0.92 seconds\n"
     ]
    }
   ],
   "source": [
    "import time\n",
    "start = time.time()\n",
    "from app.workflows.naive_text2cypher_retry import NaiveText2CypherRetryFlow\n",
    "end = time.time()\n",
    "print(f\"Import took {end - start:.2f} seconds\")\n",
    "flow = NaiveText2CypherRetryFlow(verbose=False, timeout=30)"
   ]
  },
  {
   "cell_type": "code",
   "execution_count": 7,
   "id": "041de039-c410-417f-bec2-9b92a70cdf82",
   "metadata": {},
   "outputs": [
    {
     "data": {
      "text/html": [
       "<div>\n",
       "<style scoped>\n",
       "    .dataframe tbody tr th:only-of-type {\n",
       "        vertical-align: middle;\n",
       "    }\n",
       "\n",
       "    .dataframe tbody tr th {\n",
       "        vertical-align: top;\n",
       "    }\n",
       "\n",
       "    .dataframe thead th {\n",
       "        text-align: right;\n",
       "    }\n",
       "</style>\n",
       "<table border=\"1\" class=\"dataframe\">\n",
       "  <thead>\n",
       "    <tr style=\"text-align: right;\">\n",
       "      <th></th>\n",
       "      <th>Question</th>\n",
       "      <th>Cypher</th>\n",
       "    </tr>\n",
       "  </thead>\n",
       "  <tbody>\n",
       "    <tr>\n",
       "      <th>0</th>\n",
       "      <td>Who acted in Tom Hanks’s highest-rated movie?</td>\n",
       "      <td>MATCH (p:Person {name: 'Tom Hanks'})-[:ACTED_I...</td>\n",
       "    </tr>\n",
       "    <tr>\n",
       "      <th>1</th>\n",
       "      <td>Which movie starring Keanu Reeves has the most...</td>\n",
       "      <td>MATCH (meg:Actor {name: \"Keanu Reeves\"})-[:ACT...</td>\n",
       "    </tr>\n",
       "    <tr>\n",
       "      <th>2</th>\n",
       "      <td>Who directed the most recent movie starring Ha...</td>\n",
       "      <td>MATCH (p:Person {name: \"Halle Berry\"})-[:ACTED...</td>\n",
       "    </tr>\n",
       "    <tr>\n",
       "      <th>3</th>\n",
       "      <td>What is the highest-rated movie from the 1990s...</td>\n",
       "      <td>MATCH (m:Movie)-[:DIRECTED]-(d:Person) WHERE m...</td>\n",
       "    </tr>\n",
       "    <tr>\n",
       "      <th>4</th>\n",
       "      <td>For all movies starring Keanu Reeves, find the...</td>\n",
       "      <td>MATCH (keanu:Person {name: \"Keanu Reeves\"})-[:...</td>\n",
       "    </tr>\n",
       "  </tbody>\n",
       "</table>\n",
       "</div>"
      ],
      "text/plain": [
       "                                            Question  \\\n",
       "0      Who acted in Tom Hanks’s highest-rated movie?   \n",
       "1  Which movie starring Keanu Reeves has the most...   \n",
       "2  Who directed the most recent movie starring Ha...   \n",
       "3  What is the highest-rated movie from the 1990s...   \n",
       "4  For all movies starring Keanu Reeves, find the...   \n",
       "\n",
       "                                              Cypher  \n",
       "0  MATCH (p:Person {name: 'Tom Hanks'})-[:ACTED_I...  \n",
       "1  MATCH (meg:Actor {name: \"Keanu Reeves\"})-[:ACT...  \n",
       "2  MATCH (p:Person {name: \"Halle Berry\"})-[:ACTED...  \n",
       "3  MATCH (m:Movie)-[:DIRECTED]-(d:Person) WHERE m...  \n",
       "4  MATCH (keanu:Person {name: \"Keanu Reeves\"})-[:...  "
      ]
     },
     "execution_count": 7,
     "metadata": {},
     "output_type": "execute_result"
    }
   ],
   "source": [
    "import pandas as pd\n",
    "\n",
    "test_df = pd.read_csv('test_data.csv', delimiter=\";\")\n",
    "test_df.head()"
   ]
  },
  {
   "cell_type": "code",
   "execution_count": 8,
   "id": "761792cf-9f64-49d2-9d56-79cc7140b0f5",
   "metadata": {},
   "outputs": [
    {
     "name": "stdout",
     "output_type": "stream",
     "text": [
      "Who acted in Tom Hanks’s highest-rated movie?\n",
      "{'cypher': \"MATCH (p:Person {name: 'Tom Hanks'})-[:ACTED_IN]->(m:Movie)<-[:ACTED_IN]-(a:Person) \\nRETURN a.name \\nORDER BY m.imdbRating DESC \\nLIMIT 1\", 'question': 'Who acted in Tom Hanks’s highest-rated movie?', 'answer': \"Based on the context provided, the actor who acted in Tom Hanks's highest-rated movie is **David Andrews**. \\n\\nThis conclusion is drawn from the Cypher query, which retrieves the name of a person (`a.name`) who acted in the same movie as Tom Hanks, ordered by the movie's IMDb rating in descending order, and limits the result to the top entry. The result indicates that David Andrews is the actor associated with Tom Hanks's highest-rated movie.\"}\n",
      "Which movie starring Keanu Reeves has the most actors in common with a Tom Hanks movie?\n",
      "{'cypher': \"MATCH (keanu:Person {name: 'Keanu Reeves'})-[:ACTED_IN]->(km:Movie)<-[:ACTED_IN]-(commonActor:Person)-[:ACTED_IN]->(tm:Movie)<-[:ACTED_IN]-(tom:Person {name: 'Tom Hanks'})\\nRETURN km.title AS keanuMovie, COUNT(DISTINCT commonActor) AS commonActorsCount\\nORDER BY commonActorsCount DESC\\nLIMIT 1\", 'question': 'Which movie starring Keanu Reeves has the most actors in common with a Tom Hanks movie?', 'answer': 'Based on the context provided, the movie starring Keanu Reeves that has the most actors in common with a Tom Hanks movie is **\"The Lake House\"**. This is determined from the query result, which shows that \"The Lake House\" has 2 actors in common with a Tom Hanks movie.'}\n",
      "Who directed the most recent movie starring Halle Berry, and which other actors starred in that director’s earlier movies?\n",
      "{'cypher': 'MATCH (p:Person)-[:ACTED_IN]->(m:Movie {title: \"Halle Berry\"})<-[:ACTED_IN]-(a:Person)\\nWITH p, m, a\\nMATCH (p)-[:DIRECTED]->(m)\\nRETURN p.name, a.name', 'question': 'Who directed the most recent movie starring Halle Berry, and which other actors starred in that director’s earlier movies?', 'answer': 'The context retrieved from the Neo4j database is empty (`[]`), meaning no data was returned for the query. As a result, there is no information available about who directed the most recent movie starring Halle Berry or which other actors starred in that director’s earlier movies.\\n\\nTo answer the question, additional information is needed:\\n1. Data about the movies Halle Berry has starred in, including their release dates to identify the most recent one.\\n2. Information about the directors of those movies.\\n3. Details about other actors who have worked with those directors in earlier movies.\\n\\nPlease provide a more detailed or alternative query to retrieve this information.'}\n",
      "What is the highest-rated movie from the 1990s, who directed it, and which other films did that director make?\n",
      "{'cypher': 'MATCH (m:Movie)-[:DIRECTED]-(d:Person) \\nWHERE m.year >= 1990 AND m.year < 2000 \\nWITH m, d \\nORDER BY m.imdbRating DESC \\nLIMIT 1 \\nMATCH (d)-[:DIRECTED]->(other:Movie) \\nRETURN m.title AS highestRatedMovie, m.imdbRating AS rating, d.name AS director, COLLECT(other.title) AS otherMovies;', 'question': 'What is the highest-rated movie from the 1990s, who directed it, and which other films did that director make?', 'answer': 'The highest-rated movie from the 1990s is **\"The Shawshank Redemption\"**, with an IMDb rating of **9.3**. It was directed by **Frank Darabont**. Other movies directed by Frank Darabont include **\"The Majestic\"**, **\"The Green Mile\"**, and **\"The Mist\"**. \\n\\nThis information is directly derived from the provided context.'}\n",
      "For all movies starring Keanu Reeves, find the director who worked the most times with him and list the co-stars across those collaborations.\n",
      "{'cypher': 'MATCH (keanu:Person {name: \"Keanu Reeves\"})-[:ACTED_IN]->(movie:Movie)<-[:ACTED_IN]-(coStar:Person)\\nWITH keanu, coStar, movie\\nWHERE coStar <> keanu\\nMATCH (movie)<-[:DIRECTED]-(director:Person)\\nWITH director, coStar, COUNT(movie) AS collaborations\\nORDER BY collaborations DESC\\nLIMIT 1\\nMATCH (director)-[:DIRECTED]->(collabMovie:Movie)<-[:ACTED_IN]-(coStar:Person)\\nWHERE (collabMovie)<-[:ACTED_IN]-(keanu)\\nRETURN director.name AS director, COLLECT(DISTINCT coStar.name) AS coStars, collaborations', 'question': 'For all movies starring Keanu Reeves, find the director who worked the most times with him and list the co-stars across those collaborations.', 'answer': 'The provided context indicates that the Cypher query used to retrieve the information contains a syntax error. Specifically, the error occurs at the line:\\n\\n`WHERE (collabMovie)<-[:ACTED_IN]-(keanu)`\\n\\nThe error message states that \"PatternExpressions are not allowed to introduce new variables: \\'keanu\\'.\" This means the query is attempting to use the variable `keanu` in a way that is not allowed in the specified part of the query.\\n\\nAs a result, the query could not execute successfully, and no data was retrieved from the Neo4j database. Therefore, it is not possible to determine the director who worked the most times with Keanu Reeves or list the co-stars across those collaborations based on the current context.\\n\\n### Suggested Next Steps:\\n1. **Fix the Query**: The query needs to be corrected to avoid introducing new variables in the `WHERE` clause. For example, ensure that `keanu` is properly scoped and not reintroduced in the later part of the query.\\n2. **Re-run the Query**: After fixing the syntax error, re-run the query to retrieve the required data.\\n3. **Provide the Corrected Context**: Once the query executes successfully, provide the retrieved data so the question can be answered.\\n\\nIf you need assistance with fixing the query, please provide more details about the database schema or clarify the intended logic.'}\n",
      "Find the actor who has starred with all from the list of Tom Hanks, Meg Ryan, and Bruce Willis!\n",
      "{'cypher': \"MATCH (a:Person)-[:ACTED_IN]->(m:Movie)<-[:ACTED_IN]-(co:Person)\\nWHERE co.name IN ['Tom Hanks', 'Meg Ryan', 'Bruce Willis']\\nWITH a, COLLECT(DISTINCT co.name) AS coActors\\nWHERE ['Tom Hanks', 'Meg Ryan', 'Bruce Willis'] = coActors\\nRETURN a.name\", 'question': 'Find the actor who has starred with all from the list of Tom Hanks, Meg Ryan, and Bruce Willis!', 'answer': 'The context retrieved from the Neo4j database is an empty result (`[]`). This means that no actor was found who has starred with all three individuals: Tom Hanks, Meg Ryan, and Bruce Willis.\\n\\n**Answer:** There is no actor in the database who has starred with all three: Tom Hanks, Meg Ryan, and Bruce Willis.'}\n",
      "Which horror movie has the highest rating, who directed it, and which actors are in?\n",
      "{'cypher': 'MATCH (m:Movie)-[:IN_GENRE]->(g:Genre {name: \"Horror\"}) \\nOPTIONAL MATCH (d:Person)-[:DIRECTED]->(m) \\nOPTIONAL MATCH (a:Person)-[:ACTED_IN]->(m) \\nRETURN m.title AS movie, m.imdbRating AS rating, d.name AS director, COLLECT(a.name) AS actors \\nORDER BY m.imdbRating DESC \\nLIMIT 1', 'question': 'Which horror movie has the highest rating, who directed it, and which actors are in?', 'answer': 'Based on the context provided, the horror movie with the highest rating is **\"The Neon Demon\"**. It was directed by **Nicolas Winding Refn**, and the actors in the movie are **Jena Malone, Keanu Reeves, Christina Hendricks, and Elle Fanning**.\\n\\nHowever, the IMDb rating for the movie is listed as **None** in the context, which means the rating information is missing. If you need the exact rating, additional data is required to retrieve it.'}\n",
      "Find the director of the drama movie that has the longest runtime, and list all their movies that are under two hours.\n",
      "{'cypher': \"MATCH (m:Movie)-[:IN_GENRE]->(g:Genre) \\nWHERE g.name = 'Drama' \\nWITH m \\nORDER BY m.runtime DESC \\nLIMIT 1 \\nMATCH (d:Person)-[:DIRECTED]->(m) \\nMATCH (d)-[:DIRECTED]->(other:Movie) \\nWHERE other.runtime < 120 \\nRETURN d.name AS Director, other.title AS MovieUnderTwoHours\", 'question': 'Find the director of the drama movie that has the longest runtime, and list all their movies that are under two hours.', 'answer': 'The context provided is empty (`[]`), meaning the query did not return any results from the Neo4j database. This could indicate that:\\n\\n1. There is no drama movie in the database with a director who also directed movies under two hours.\\n2. The database does not contain relevant data for the query.\\n\\nAs a result, I cannot identify the director of the longest drama movie or list their movies under two hours based on the given context.\\n\\nTo proceed, additional information or clarification is needed:\\n- Confirm if there are any drama movies in the database.\\n- Verify if there are directors associated with those movies.\\n- Check if the database contains movies under two hours directed by the same person.\\n\\nLet me know if you would like to refine the query or explore other related data.'}\n",
      "Which 3 actors have starred the most in both a comedy and a thriller?\n",
      "{'cypher': \"MATCH (a:Person)-[:ACTED_IN]->(:Movie)-[:IN_GENRE]->(g1:Genre), \\n      (a)-[:ACTED_IN]->(:Movie)-[:IN_GENRE]->(g2:Genre) \\nWHERE g1.name = 'Comedy' AND g2.name = 'Thriller' \\nRETURN a.name, COUNT(DISTINCT g1) + COUNT(DISTINCT g2) AS genreCount \\nORDER BY genreCount DESC \\nLIMIT 3\", 'question': 'Which 3 actors have starred the most in both a comedy and a thriller?', 'answer': 'Based on the context provided, the 3 actors who have starred the most in both a comedy and a thriller are:\\n\\n1. Patrick Wilson  \\n2. Brooklyn Decker  \\n3. Jessica Szohr  \\n\\nEach of these actors has a `genreCount` of 2, indicating they have acted in movies that fall into both the Comedy and Thriller genres. The query limits the results to the top 3 actors, and all three listed actors are tied with the same genre count.'}\n",
      "Which pair of actors have starred in the largest number of movies together and who directed most of those collaborations?\n",
      "{'cypher': 'MATCH (a1:Person)-[:ACTED_IN]->(m:Movie)<-[:ACTED_IN]-(a2:Person), \\n      (d:Person)-[:DIRECTED]->(m)\\nWHERE a1 <> a2\\nWITH a1, a2, d, m, COUNT(m) AS collaborations\\nORDER BY collaborations DESC\\nLIMIT 1\\nRETURN a1.name AS Actor1, a2.name AS Actor2, COUNT(m) AS MovieCount, d.name AS Director, COUNT(d) AS DirectedCount;', 'question': 'Which pair of actors have starred in the largest number of movies together and who directed most of those collaborations?', 'answer': 'Based on the context provided, the pair of actors who have starred in the largest number of movies together is **Tim Allen** and **Jim Varney**, with **1 movie**. The director who directed this collaboration is **John Lasseter**, and he directed **1 movie** involving this pair.\\n\\nThis conclusion is drawn directly from the context, which specifies the actors, the number of movies they collaborated on, and the director associated with their collaboration.'}\n",
      "Name the actor who starred with Harrison Ford in at least two movies.\n",
      "{'cypher': \"MATCH (h:Person {name: 'Harrison Ford'})-[:ACTED_IN]->(m:Movie)<-[:ACTED_IN]-(a:Person) \\nWITH a, COUNT(DISTINCT m) AS movieCount \\nWHERE movieCount >= 2 \\nRETURN a.name\", 'question': 'Name the actor who starred with Harrison Ford in at least two movies.', 'answer': 'Based on the context provided, the actors who starred with Harrison Ford in at least two movies are:\\n\\n- Karen Allen\\n- Mark Hamill\\n- Carrie Fisher\\n- Anne Archer\\n- Billy Dee Williams\\n\\nThis conclusion is drawn from the Cypher query, which identifies actors (`a`) who acted in at least two movies with Harrison Ford. The names listed in the context are the results of this query.'}\n",
      "Which actors appear in both a movie directed by Quentin Tarantino and another directed by the Randal Kleiser.\n",
      "{'cypher': 'MATCH (qt:Person {name: \"Quentin Tarantino\"})-[:DIRECTED]->(m1:Movie)<-[:ACTED_IN]-(a:Person),\\n      (rk:Person {name: \"Randal Kleiser\"})-[:DIRECTED]->(m2:Movie)<-[:ACTED_IN]-(a)\\nRETURN DISTINCT a.name', 'question': 'Which actors appear in both a movie directed by Quentin Tarantino and another directed by the Randal Kleiser.', 'answer': 'Based on the context provided, the actors who appear in both a movie directed by Quentin Tarantino and another directed by Randal Kleiser are:\\n\\n- **Valeria Golino**\\n- **John Travolta**\\n- **Daryl Hannah**\\n\\nThis conclusion is drawn from the query results, which list these actors (`a.name`) as having acted in movies directed by both Quentin Tarantino and Randal Kleiser.'}\n",
      "Which actors have starred in movies rated below 5 and also in movies rated above 9?\n",
      "{'cypher': 'MATCH (a:Person)-[:ACTED_IN]->(m1:Movie)<-[:RATED]-(r1:User), \\n      (a)-[:ACTED_IN]->(m2:Movie)<-[:RATED]-(r2:User) \\nWHERE r1.rating < 5 AND r2.rating > 9 \\nRETURN DISTINCT a.name', 'question': 'Which actors have starred in movies rated below 5 and also in movies rated above 9?', 'answer': 'The context retrieved from the Neo4j database is empty (`[]`), meaning no data was returned by the query. This indicates that there are no actors in the database who have starred in movies rated below 5 and also in movies rated above 9.\\n\\n**Answer:** No actors meet the criteria of starring in movies rated below 5 and also in movies rated above 9, based on the provided context.'}\n",
      "Among comedy films that grossed over $100 million, which one features the oldest actor.\n",
      "{'cypher': 'MATCH (m:Movie)-[:IN_GENRE]->(g:Genre {name: \"Comedy\"}), (p:Person)-[:ACTED_IN]->(m)\\nWHERE m.revenue > 100000000\\nRETURN m.title, p.name, p.born\\nORDER BY p.born ASC\\nLIMIT 1', 'question': 'Among comedy films that grossed over $100 million, which one features the oldest actor.', 'answer': 'Based on the context provided, the comedy film that grossed over $100 million and features the oldest actor is **\"Pretty Woman\"**. The actor is **Ralph Bellamy**, who was born on **June 17, 1904**. \\n\\nThis conclusion is drawn from the query\\'s result, which orders actors by their birthdate in ascending order and limits the result to the oldest actor.'}\n",
      "Which directors have themselves acted in at least three of their own movies?\n",
      "{'cypher': 'MATCH (d:Person)-[:DIRECTED]->(m:Movie)<-[:ACTED_IN]-(d)\\nWITH d, COUNT(m) AS actedInCount\\nWHERE actedInCount >= 3\\nRETURN d.name, actedInCount', 'question': 'Which directors have themselves acted in at least three of their own movies?', 'answer': 'Based on the context provided, the directors who have acted in at least three of their own movies are:\\n\\n1. Woody Allen (19 movies)\\n2. Nick Broomfield (3 movies)\\n3. Clint Eastwood (20 movies)\\n4. Kenneth Branagh (7 movies)\\n5. Kevin Costner (3 movies)\\n6. Spike Lee (4 movies)\\n7. Danny DeVito (5 movies)\\n8. Gene Kelly (3 movies)\\n9. Tommy Chong (4 movies)\\n10. Orson Welles (4 movies)\\n11. Charlie Chaplin (9 movies)\\n12. Barbra Streisand (3 movies)\\n13. Albert Brooks (6 movies)\\n14. Robert Redford (3 movies)\\n15. Takeshi Kitano (5 movies)\\n16. Michael Moore (4 movies)\\n17. Emilio Estevez (3 movies)\\n18. Mel Brooks (4 movies)\\n19. Roberto Benigni (3 movies)\\n20. Trey Parker (4 movies)\\n21. Sylvester Stallone (6 movies)\\n22. Warren Beatty (3 movies)\\n23. Jackie Chan (8 movies)\\n24. Werner Herzog (8 movies)\\n25. Buster Keaton (13 movies)\\n26. John Wayne (3 movies)\\n27. Ben Stiller (3 movies)\\n28. Alan Alda (3 movies)\\n29. George Clooney (3 movies)\\n30. Alex van Warmerdam (4 movies)\\n31. Ricky Gervais (3 movies)\\n32. Edward F. Cline (4 movies)\\n33. Louis C.K. (5 movies)\\n34. Seth MacFarlane (3 movies)\\n\\n### Reasoning:\\nThe Cypher query specifically retrieves directors (`d`) who have acted in at least three of the movies they directed (`actedInCount >= 3`). The context lists these directors along with the count of movies they acted in. Therefore, all the names in the context meet the criteria of having acted in at least three of their own movies.'}\n",
      "What is the most common language among movies with a budget lower than 10 million dollars?\n",
      "{'cypher': 'MATCH (m:Movie) \\nWHERE m.budget < 10000000 \\nUNWIND m.languages AS language \\nRETURN language, COUNT(language) AS count \\nORDER BY count DESC \\nLIMIT 1', 'question': 'What is the most common language among movies with a budget lower than 10 million dollars?', 'answer': 'The most common language among movies with a budget lower than 10 million dollars is **English**, as it appears 1,500 times in the dataset. This conclusion is based on the context provided, which shows that English has the highest count among the languages in this category.'}\n",
      "Identify the first 3 genres most frequently linked to movies directed by 'Steven Spielberg'.\n",
      "{'cypher': \"MATCH (p:Person {name: 'Steven Spielberg'})-[:DIRECTED]->(m:Movie)-[:IN_GENRE]->(g:Genre)\\nRETURN g.name, COUNT(g) AS genreCount\\nORDER BY genreCount DESC\\nLIMIT 3\", 'question': \"Identify the first 3 genres most frequently linked to movies directed by 'Steven Spielberg'.\", 'answer': 'Based on the context provided, the first 3 genres most frequently linked to movies directed by Steven Spielberg are:\\n\\n1. **Drama** (16 movies)\\n2. **Action** (14 movies)\\n3. **Adventure** (11 movies)\\n\\nThis ranking is determined by the `genreCount` values, which represent the number of movies in each genre directed by Steven Spielberg, ordered in descending order.'}\n",
      "List the top 5 oldest actors in the database.\n",
      "{'cypher': 'MATCH (p:Person) \\nWHERE p.born IS NOT NULL \\nRETURN p.name, p.born \\nORDER BY p.born ASC \\nLIMIT 5', 'question': 'List the top 5 oldest actors in the database.', 'answer': 'Based on the context provided, the top 5 oldest individuals in the database (ordered by their birth dates in ascending order) are:\\n\\n1. Ron Smerczak - Born on March 7, 1649  \\n2. Paul von Hindenburg - Born on October 2, 1847  \\n3. Maggie Moore - Born on April 10, 1851  \\n4. Eugene Silvain - Born on June 17, 1851  \\n5. Monte Collins - Born on January 1, 1856  \\n\\nHowever, the context does not specify whether all these individuals are actors. If you are specifically looking for actors, additional information is needed to confirm their professions. Please clarify if you need this filtered by profession or if the list as is suffices.'}\n",
      "List the top 5 movies with the most IMDb votes.\n",
      "{'cypher': 'MATCH (m:Movie) \\nRETURN m.title, m.imdbVotes \\nORDER BY m.imdbVotes DESC \\nLIMIT 5', 'question': 'List the top 5 movies with the most IMDb votes.', 'answer': 'The context provided does not include IMDb vote counts (`m.imdbVotes`) for any of the movies listed. All the `m.imdbVotes` values are `None`, which means there is no information about the number of votes for these movies. \\n\\nAs a result, it is not possible to determine the top 5 movies with the most IMDb votes based on the given data. \\n\\nTo answer the question, the IMDb vote counts for the movies need to be available. Please provide data that includes the actual `m.imdbVotes` values for the movies.'}\n",
      "Which 3 movies have the highest revenue to budget ratio?\n",
      "{'cypher': 'MATCH (m:Movie) \\nWHERE m.budget > 0 \\nRETURN m.title, m.revenue / m.budget AS revenueToBudgetRatio \\nORDER BY revenueToBudgetRatio DESC \\nLIMIT 3', 'question': 'Which 3 movies have the highest revenue to budget ratio?', 'answer': 'The context indicates that the query was intended to find the top 3 movies with the highest revenue-to-budget ratio. However, the retrieved data shows that the `revenueToBudgetRatio` for all three movies is `None`. This means the database does not have sufficient information to calculate or determine the revenue-to-budget ratio for these movies.\\n\\n### Answer:\\nThe context does not provide sufficient information to identify the 3 movies with the highest revenue-to-budget ratio because the `revenueToBudgetRatio` values are missing (`None`). Additional data on the revenue and budget for these movies is required to calculate the ratio and answer the question.'}\n",
      "What is the name of the genre associated with the movie 'Jumanji'?\n",
      "{'cypher': \"MATCH (m:Movie {title: 'Jumanji'})-[:IN_GENRE]->(g:Genre) RETURN g.name\", 'question': \"What is the name of the genre associated with the movie 'Jumanji'?\", 'answer': 'The movie *Jumanji* is associated with the following genres based on the context provided: **Adventure**, **Children**, and **Fantasy**.\\n\\nThis conclusion is drawn directly from the retrieved data, which lists these three genres as connected to the movie *Jumanji*. If you were looking for a single genre or a specific type of genre, please clarify your question.'}\n",
      "Name the top 5 movies with the most IMDb votes released before the year 2000.\n",
      "{'cypher': 'MATCH (m:Movie) \\nWHERE m.year < 2000 \\nRETURN m.title, m.imdbVotes \\nORDER BY m.imdbVotes DESC \\nLIMIT 5', 'question': 'Name the top 5 movies with the most IMDb votes released before the year 2000.', 'answer': 'Based on the context provided, the top 5 movies with the most IMDb votes released before the year 2000 are:\\n\\n1. **The Shawshank Redemption** with 1,626,900 IMDb votes.\\n2. **Fight Club** with 1,287,410 IMDb votes.\\n\\nThe other three movies listed in the context, **This Is Spinal Tap**, **Burn Up!**, and **The Great Gatsby**, do not have IMDb vote counts provided (their `m.imdbVotes` values are `None`). Therefore, it is unclear how they rank compared to other movies.\\n\\nTo provide a complete and accurate list of the top 5 movies, additional information about the IMDb vote counts for the movies with `None` values or other movies released before 2000 is required.'}\n",
      "What is the average IMDb rating of movies with a runtime under 90 minutes?\n",
      "{'cypher': 'MATCH (m:Movie) \\nWHERE m.runtime < 90 \\nRETURN avg(m.imdbRating) AS averageIMDbRating', 'question': 'What is the average IMDb rating of movies with a runtime under 90 minutes?', 'answer': 'The average IMDb rating of movies with a runtime under 90 minutes is **6.54** (rounded to two decimal places). \\n\\nThis is based on the context provided, where the query calculates the average IMDb rating (`avg(m.imdbRating)`) for movies with a runtime less than 90 minutes, resulting in the value `6.543643263757116`.'}\n",
      "List the top 3 directors by the number of movies directed.\n",
      "{'cypher': 'MATCH (d:Person)-[:DIRECTED]->(m:Movie) \\nRETURN d.name, COUNT(m) AS movieCount \\nORDER BY movieCount DESC \\nLIMIT 3', 'question': 'List the top 3 directors by the number of movies directed.', 'answer': 'Based on the context provided, the top 3 directors by the number of movies directed are:\\n\\n1. **Woody Allen** with 42 movies directed.\\n2. **Alfred Hitchcock** with 38 movies directed.\\n3. **Martin Scorsese** with 30 movies directed.\\n\\nThis ranking is derived directly from the `movieCount` values in the context, which are sorted in descending order.'}\n",
      "What are the top 5 movies with the highest number of countries involved?\n",
      "{'cypher': 'MATCH (m:Movie) \\nRETURN m.title, size(m.countries) AS countryCount \\nORDER BY countryCount DESC \\nLIMIT 5', 'question': 'What are the top 5 movies with the highest number of countries involved?', 'answer': 'The context provided does not include any information about the number of countries involved for the listed movies (`countryCount` is `None` for all entries). Therefore, it is not possible to determine the top 5 movies with the highest number of countries involved based on this data.\\n\\nTo answer the question, additional information is needed. Specifically, the `countryCount` values for each movie must be provided. Please ensure the database query retrieves accurate data for the `size(m.countries)` property.'}\n",
      "List the top 5 actors by number of different genres they've acted in.\n",
      "{'cypher': 'MATCH (a:Person)-[:ACTED_IN]->(:Movie)-[:IN_GENRE]->(g:Genre)\\nRETURN a.name, COUNT(DISTINCT g.name) AS genreCount\\nORDER BY genreCount DESC\\nLIMIT 5', 'question': \"List the top 5 actors by number of different genres they've acted in.\", 'answer': \"Based on the context provided, the top 5 actors by the number of different genres they've acted in are:\\n\\n1. Kurt Russell (17 genres)\\n2. Brad Pitt (17 genres)\\n3. Johnny Depp (17 genres)\\n4. Samuel L. Jackson (17 genres)\\n5. Ewan McGregor (16 genres)\\n\\nThis ranking is determined by the `genreCount` value, which represents the number of distinct genres each actor has acted in. The list is ordered by `genreCount` in descending order, as specified in the Cypher query.\"}\n",
      "List movies directed by ‘Quentin Tarantino'.\n",
      "{'cypher': \"MATCH (p:Person {name: 'Quentin Tarantino'})-[:DIRECTED]->(m:Movie) RETURN m.title\", 'question': \"List movies directed by ‘Quentin Tarantino'.\", 'answer': 'Based on the context retrieved from the Neo4j database, the movies directed by Quentin Tarantino are:\\n\\n1. Four Rooms  \\n2. Sin City  \\n3. Grindhouse  \\n4. Pulp Fiction  \\n5. The Hateful Eight  \\n6. Death Proof  \\n7. Kill Bill: Vol. 2  \\n8. Django Unchained  \\n9. Kill Bill: Vol. 1  \\n10. Jackie Brown  \\n11. Inglourious Basterds  \\n12. Reservoir Dogs  \\n\\nThis list is derived directly from the query results, which match movies directed by Quentin Tarantino.'}\n",
      "Which actor has the highest average IMDb rating across all of their movies released in the 21st century?\n",
      "{'cypher': 'MATCH (a:Person)-[:ACTED_IN]->(m:Movie) \\nWHERE m.year >= 2000 \\nWITH a, AVG(m.imdbRating) AS avgRating \\nRETURN a.name, avgRating \\nORDER BY avgRating DESC \\nLIMIT 1', 'question': 'Which actor has the highest average IMDb rating across all of their movies released in the 21st century?', 'answer': 'Based on the context provided, the actor with the highest average IMDb rating across all of their movies released in the 21st century is **Christian Karl Gerhartsreiter**, but their average IMDb rating is `None`. This indicates that there is no data available for their IMDb ratings in the database for movies released in the 21st century.\\n\\nTo answer the question more definitively, additional information is needed:\\n1. IMDb ratings for movies that Christian Karl Gerhartsreiter acted in during the 21st century.\\n2. Data for other actors who acted in movies released in the 21st century to compare their average IMDb ratings.\\n\\nWithout this information, the query result is inconclusive.'}\n",
      "Who is the oldest actor to have portrayed a Marvel superhero, and which movie did they appear in last?\n",
      "{'cypher': 'MATCH (p:Person)-[:ACTED_IN]->(m:Movie)-[:IN_GENRE]->(g:Genre)\\nWHERE g.name CONTAINS \"Superhero\" OR g.name CONTAINS \"Marvel\"\\nRETURN p.name AS actor, MAX(p.born) AS birthDate, m.title AS lastMovie\\nORDER BY birthDate ASC\\nLIMIT 1', 'question': 'Who is the oldest actor to have portrayed a Marvel superhero, and which movie did they appear in last?', 'answer': 'The context provided is empty (`[]`), meaning the query did not return any results from the Neo4j database. Therefore, there is no information available about actors, their birth dates, or the movies they appeared in.\\n\\nTo answer the question, additional data is required in the database. Specifically, the database should contain:\\n\\n1. Information about actors (`Person` nodes) and their birth dates.\\n2. The movies they acted in (`Movie` nodes) and their genres (`Genre` nodes), particularly those related to \"Superhero\" or \"Marvel.\"\\n\\nWithout this data, it is not possible to determine the oldest actor to have portrayed a Marvel superhero or the last movie they appeared in.'}\n",
      "Among directors who have directed both horror and comedy films, which one has the highest combined revenue?\n",
      "{'cypher': \"MATCH (d:Person)-[:DIRECTED]->(m1:Movie)-[:IN_GENRE]->(g1:Genre), \\n      (d)-[:DIRECTED]->(m2:Movie)-[:IN_GENRE]->(g2:Genre)\\nWHERE g1.name = 'Horror' AND g2.name = 'Comedy'\\nWITH d, SUM(m1.revenue) + SUM(m2.revenue) AS totalRevenue\\nRETURN d.name, totalRevenue\\nORDER BY totalRevenue DESC\\nLIMIT 1\", 'question': 'Among directors who have directed both horror and comedy films, which one has the highest combined revenue?', 'answer': 'Based on the context provided, the director who has directed both horror and comedy films and has the highest combined revenue is **Wes Craven**, with a total revenue of **7,998,900,396**. \\n\\nThis conclusion is drawn from the query results, which explicitly identify Wes Craven as the top director in terms of combined revenue for these genres.'}\n",
      "Which actor has been directed the most times by Martin Scorsese, and for each collaboration, what was the movie’s IMDb rating?\n",
      "{'cypher': \"MATCH (d:Person {name: 'Martin Scorsese'})-[:DIRECTED]->(m:Movie)<-[:ACTED_IN]-(a:Person)\\nRETURN a.name, COUNT(m) AS collaborationCount, COLLECT({movie: m.title, imdbRating: m.imdbRating}) AS movies\\nORDER BY collaborationCount DESC\\nLIMIT 1\", 'question': 'Which actor has been directed the most times by Martin Scorsese, and for each collaboration, what was the movie’s IMDb rating?', 'answer': 'The actor who has been directed the most times by Martin Scorsese is **Robert De Niro**, with a total of **7 collaborations**. The IMDb ratings for each movie they collaborated on are as follows:\\n\\n1. *Cape Fear* - 7.3  \\n2. *Casino* - 8.2  \\n3. *New York, New York* - 6.7  \\n4. *The King of Comedy* - 7.8  \\n5. *Goodfellas* - 8.7  \\n6. *Mean Streets* - 7.4  \\n7. *Raging Bull* - 8.3  \\n\\nThis conclusion is based on the provided context, which explicitly lists Robert De Niro as the actor with the highest collaboration count with Martin Scorsese and includes the IMDb ratings for each movie.'}\n",
      "Find the director whose debut movie achieved the highest score.\n",
      "{'cypher': 'MATCH (p:Person)-[:DIRECTED]->(m:Movie) \\nWITH p, m \\nORDER BY p.name, m.year ASC \\nWITH p, COLLECT(m)[0] AS debutMovie \\nRETURN p.name AS director, debutMovie.title AS debutMovieTitle, debutMovie.imdbRating AS rating \\nORDER BY rating DESC \\nLIMIT 1', 'question': 'Find the director whose debut movie achieved the highest score.', 'answer': 'Based on the context provided, the director whose debut movie achieved the highest score cannot be determined because the `rating` for the debut movie \"Shin Godzilla\" by Shinji Higuchi is `None`. \\n\\nTo answer the question, we would need the IMDb ratings for the debut movies of all directors in the database. Please provide the ratings or clarify if there are other directors and their debut movies with ratings available.'}\n",
      "Which actor or actress made their debut in the highest-grossing comedy film of the 1980s?\n",
      "{'cypher': \"MATCH (m:Movie)-[:IN_GENRE]->(g:Genre), (p:Person)-[:ACTED_IN]->(m) \\nWHERE g.name = 'Comedy' AND m.year >= 1980 AND m.year < 1990 \\nWITH m, p \\nORDER BY m.revenue DESC \\nLIMIT 1 \\nRETURN p.name, m.title, m.revenue\", 'question': 'Which actor or actress made their debut in the highest-grossing comedy film of the 1980s?', 'answer': 'The context provided does not include information about whether \"Private Benjamin\" was the highest-grossing comedy film of the 1980s or whether Goldie Hawn made her debut in this film. Additionally, the revenue for \"Private Benjamin\" is listed as `None`, so we cannot confirm its financial success relative to other films.\\n\\nTo answer the question accurately, we need the following additional information:\\n1. Confirmation that \"Private Benjamin\" was the highest-grossing comedy film of the 1980s.\\n2. Whether Goldie Hawn made her acting debut in \"Private Benjamin.\"\\n\\nWithout this information, I cannot provide a definitive answer.'}\n",
      "Which movie from the 2010s has the largest difference between revenue and budget, which countries produced it, and who directed it?\n",
      "{'cypher': 'MATCH (m:Movie)-[:IN_GENRE]->(:Genre), (p:Person)-[:DIRECTED]->(m)\\nWHERE m.year >= 2010 AND m.year < 2020\\nWITH m, p, (m.revenue - m.budget) AS profit\\nORDER BY profit DESC LIMIT 1\\nRETURN m.title AS movie, profit AS largestDifference, m.countries AS countries, p.name AS director', 'question': 'Which movie from the 2010s has the largest difference between revenue and budget, which countries produced it, and who directed it?', 'answer': 'Based on the context provided, the movie from the 2010s with the largest difference between revenue and budget is **\"Temple Grandin\"**, directed by **Mick Jackson** and produced in the **USA**. However, the profit (difference between revenue and budget) is listed as **None**, meaning the database does not contain sufficient information about the actual profit for this movie.\\n\\nIf you need the exact profit or confirmation that this movie indeed has the largest difference, additional data on the revenue and budget for this and other movies in the 2010s would be required.'}\n",
      "Find the director whose movies have the highest average imdbRating but only considering movies under 100 minutes (runtime < 100).\n",
      "{'cypher': 'MATCH (d:Person)-[:DIRECTED]->(m:Movie) \\nWHERE m.runtime < 100 \\nWITH d, AVG(m.imdbRating) AS avgRating \\nRETURN d.name, avgRating \\nORDER BY avgRating DESC \\nLIMIT 1', 'question': 'Find the director whose movies have the highest average imdbRating but only considering movies under 100 minutes (runtime < 100).', 'answer': 'Based on the context provided, the query identifies directors whose movies have an average IMDb rating, considering only movies with a runtime of less than 100 minutes. The result shows that the director \"Herbert Brenon\" is returned, but their average IMDb rating is `None`. This indicates that there is no valid IMDb rating data for Herbert Brenon\\'s movies under 100 minutes in the database.\\n\\nTherefore, the context does not provide sufficient information to determine the director with the highest average IMDb rating for movies under 100 minutes. Additional data is needed, such as IMDb ratings for movies directed by other directors with runtimes under 100 minutes, to answer the question accurately.'}\n",
      "Which actor has acted in the most languages across their filmography, and list those languages?\n",
      "{'cypher': 'MATCH (a:Person)-[:ACTED_IN]->(m:Movie) \\nWITH a, collect(DISTINCT m.languages) AS allLanguages\\nWITH a, apoc.coll.flatten(allLanguages) AS flattenedLanguages\\nRETURN a.name, COUNT(DISTINCT flattenedLanguages) AS languageCount, COLLECT(DISTINCT flattenedLanguages) AS languages\\nORDER BY languageCount DESC \\nLIMIT 1', 'question': 'Which actor has acted in the most languages across their filmography, and list those languages?', 'answer': 'Based on the context provided, the actor who has acted in the most languages across their filmography is **Jim Varney**. However, he has only acted in **1 language**, which is **English**.\\n\\nIf you are looking for an actor with a broader range of languages, the context does not provide sufficient information about other actors or their language counts. Additional data about other actors and their associated languages would be required to determine if anyone surpasses Jim Varney in this regard.'}\n",
      "Among all movies with a budget under $5,000,000, which one has the highest imdbRating, and which genres does it belong to?\n",
      "{'cypher': 'MATCH (m:Movie)-[:IN_GENRE]->(g:Genre) \\nWHERE m.budget < 5000000 \\nRETURN m.title, m.imdbRating, COLLECT(g.name) AS genres \\nORDER BY m.imdbRating DESC \\nLIMIT 1', 'question': 'Among all movies with a budget under $5,000,000, which one has the highest imdbRating, and which genres does it belong to?', 'answer': 'Based on the context provided, the movie \"No Direction Home: Bob Dylan\" is listed as having a budget under $5,000,000 and belongs to the \"Documentary\" genre. However, its IMDb rating is not available (`None`).\\n\\nSince the IMDb rating is missing, it is not possible to determine if this movie has the highest IMDb rating among all movies with a budget under $5,000,000. Additional information is needed, specifically the IMDb ratings of other movies in the dataset or confirmation of this movie\\'s IMDb rating, to accurately answer the question.'}\n",
      "Name the actor who has the largest difference between their earliest year and latest year of acting, and which genres are most common in their filmography?\n",
      "{'cypher': 'MATCH (a:Person)-[:ACTED_IN]->(m:Movie)-[:IN_GENRE]->(g:Genre)\\nWITH a, g.name AS genre, MIN(m.year) AS earliestYear, MAX(m.year) AS latestYear, MAX(m.year) - MIN(m.year) AS yearDifference\\nORDER BY yearDifference DESC LIMIT 1\\nWITH a, yearDifference, COLLECT(genre) AS genres\\nRETURN a.name AS actor, yearDifference, genres AS mostCommonGenres', 'question': 'Name the actor who has the largest difference between their earliest year and latest year of acting, and which genres are most common in their filmography?', 'answer': \"Based on the context provided, the actor with the largest difference between their earliest year and latest year of acting is **Unshô Ishizuka**. However, the `yearDifference` is listed as `None`, which means the database query did not calculate or retrieve a valid difference in years for this actor. \\n\\nThe most common genre in their filmography is **Adventure**.\\n\\nIf you need the actual year difference, additional information is required, such as the specific years of the actor's earliest and latest movies.\"}\n",
      "Which director has made at least one movie in each of the following languages: English, French, and Spanish, and name their highest imdbRating film.\n",
      "{'cypher': \"MATCH (d:Person)-[:DIRECTED]->(m:Movie) \\nWHERE 'English' IN m.languages AND 'French' IN m.languages AND 'Spanish' IN m.languages \\nWITH d, m \\nORDER BY m.imdbRating DESC \\nWITH d, COLLECT(m) AS movies, MAX(m.imdbRating) AS highestRating \\nRETURN d.name, [movie IN movies WHERE movie.imdbRating = highestRating | movie.title][0] AS highestRatedMovie \", 'question': 'Which director has made at least one movie in each of the following languages: English, French, and Spanish, and name their highest imdbRating film.', 'answer': 'The context provided is empty (`[]`), which means the query did not return any results from the Neo4j database. This indicates that there is no director in the database who has made at least one movie in all three languages (English, French, and Spanish) with an associated IMDb rating.\\n\\nIf you believe there should be data, additional information or adjustments might be needed, such as:\\n\\n1. Confirming that the database contains movies in all three languages.\\n2. Ensuring the query is correctly structured to retrieve the desired data.\\n3. Verifying that IMDb ratings are present for the relevant movies.\\n\\nWithout further data or clarification, I cannot provide an answer to the question.'}\n",
      "Which actor has the highest cumulative revenue across all movies they starred in, ignoring any movie with budget under $1,000,000?\n",
      "{'cypher': 'MATCH (a:Person)-[:ACTED_IN]->(m:Movie) \\nWHERE m.budget >= 1000000 \\nRETURN a.name, SUM(m.revenue) AS totalRevenue \\nORDER BY totalRevenue DESC \\nLIMIT 1', 'question': 'Which actor has the highest cumulative revenue across all movies they starred in, ignoring any movie with budget under $1,000,000?', 'answer': 'Based on the context provided, the actor with the highest cumulative revenue across all movies they starred in, ignoring any movie with a budget under $1,000,000, is **Tom Cruise**, with a total revenue of **$8,710,895,164**. \\n\\nThis conclusion is drawn directly from the query results, which rank actors by their total revenue from movies with a budget of at least $1,000,000.'}\n",
      "Find all directors who released their first movie (released) after the year 2000 and have directed at least one movie with an imdbRating over 8.6. Name those high-rated movies.\n",
      "{'cypher': 'MATCH (p:Person)-[:DIRECTED]->(m:Movie) \\nWITH p, m \\nORDER BY m.released \\nWITH p, COLLECT(m)[0] AS firstMovie \\nWHERE firstMovie.released > \"2000-01-01\" \\nMATCH (p)-[:DIRECTED]->(highRated:Movie) \\nWHERE highRated.imdbRating > 8.6 \\nRETURN p.name AS director, highRated.title AS highRatedMovieTitle', 'question': 'Find all directors who released their first movie (released) after the year 2000 and have directed at least one movie with an imdbRating over 8.6. Name those high-rated movies.', 'answer': 'Based on the context provided, the directors who released their first movie after the year 2000 and have directed at least one movie with an IMDb rating over 8.6, along with the names of those high-rated movies, are:\\n\\n1. **Fernando Meirelles** - *City of God (Cidade de Deus)*\\n2. **Kátia Lund** - *City of God (Cidade de Deus)*\\n3. **David Leland** - *Concert for George, The*\\n4. **David Slade** - *Black Mirror*\\n5. **Steven J. Santos** - *Louis C.K.: Shameless*\\n\\nThis conclusion is drawn directly from the context, which lists the directors and their high-rated movies. No additional clarification or information is needed.'}\n",
      "Find the actor who made the most revenue in their debut movie.\n",
      "{'cypher': 'MATCH (a:Person)-[:ACTED_IN]->(m:Movie)\\nWITH a, m, m.revenue AS revenue\\nORDER BY a.name, m.released\\nWITH a, COLLECT(revenue)[0] AS debutRevenue\\nRETURN a.name, debutRevenue\\nORDER BY debutRevenue DESC\\nLIMIT 1', 'question': 'Find the actor who made the most revenue in their debut movie.', 'answer': 'Based on the context provided, the actor with the highest revenue for their debut movie is \"\\'Snub\\' Pollard\". However, the debut revenue for this actor is `None`, which indicates that there is no revenue data available for their debut movie.\\n\\nIf you are looking for an actor with a specific revenue amount for their debut movie, additional data is required. Specifically, we need information about other actors and their debut movie revenues to determine if any actor has a higher debut revenue.'}\n",
      "Which movie from the 2010s has a cast that includes at least one actor born before 1920?\n",
      "{'cypher': 'MATCH (m:Movie)<-[:ACTED_IN]-(a:Person) \\nWHERE m.year >= 2010 AND m.year < 2020 AND a.born < date(\"1920-01-01\") \\nRETURN DISTINCT m.title', 'question': 'Which movie from the 2010s has a cast that includes at least one actor born before 1920?', 'answer': 'Based on the context provided, the movies from the 2010s that include at least one actor born before 1920 are:\\n\\n- **GasLand**\\n- **Illusionist, The (L\\'illusionniste)**\\n- **Waiting for \\'Superman\\'**\\n- **Letter to Elia, A**\\n- **Nixon by Nixon: In His Own Words**\\n- **What Happened, Miss Simone?**\\n- **Listen to Me Marlon**\\n\\nThese movies were retrieved using the Cypher query, which specifically filters for movies released between 2010 and 2019 (`m.year >= 2010 AND m.year < 2020`) and includes actors born before 1920 (`a.born < date(\"1920-01-01\")`). Therefore, all the movies listed in the context meet the criteria of the question.'}\n",
      "Find the director who has directed at least one movie every 5 years (based on year) for at least three consecutive intervals, and list those movies.\n",
      "{'cypher': 'MATCH (d:Person)-[:DIRECTED]->(m:Movie)\\nWITH d, m.year AS movieYear\\nORDER BY d.name, movieYear\\nWITH d, COLLECT(movieYear) AS years\\nWHERE SIZE([i IN RANGE(0, SIZE(years) - 3) WHERE years[i + 1] - years[i] <= 5 AND years[i + 2] - years[i + 1] <= 5]) > 0\\nMATCH (d)-[:DIRECTED]->(m:Movie)\\nRETURN d.name AS director, COLLECT(m.title) AS movies;', 'question': 'Find the director who has directed at least one movie every 5 years (based on year) for at least three consecutive intervals, and list those movies.', 'answer': 'Based on the provided context, the director who has directed at least one movie every 5 years for at least three consecutive intervals is **Aki Kaurismäki**. The movies directed by Aki Kaurismäki that meet this criterion are:\\n\\n1. **Ariel**\\n2. **Match Factory Girl, The (Tulitikkutehtaan tyttö)**\\n3. **Leningrad Cowboys Go America**\\n\\nThese movies are listed in the context, and the Cypher query ensures that the director satisfies the condition of directing movies within 5-year intervals for at least three consecutive periods.'}\n",
      "Find the oldest living director who has directed a movie in the 'Documentary' genre.\n",
      "{'cypher': \"MATCH (p:Person)-[:DIRECTED]->(m:Movie)-[:IN_GENRE]->(g:Genre {name: 'Documentary'})\\nWHERE p.died IS NULL AND p.born IS NOT NULL\\nRETURN p.name AS directorName, p.born AS birthDate\\nORDER BY p.born ASC\\nLIMIT 1\", 'question': \"Find the oldest living director who has directed a movie in the 'Documentary' genre.\", 'answer': \"Based on the context provided, the oldest living director who has directed a movie in the 'Documentary' genre is **Albert Maysles**, born on **November 26, 1926**. \\n\\nThis conclusion is drawn from the Cypher query, which retrieves the oldest living director (ordered by birth date in ascending order) who directed a movie in the 'Documentary' genre. The result explicitly identifies Albert Maysles as the director meeting these criteria.\"}\n",
      "Identify the director who has the highest total revenue across their filmography if we only consider films made in English, and name two of their top-earning films.\n",
      "{'cypher': 'MATCH (d:Person)-[:DIRECTED]->(m:Movie) \\nWHERE \"English\" IN m.languages \\nWITH d, SUM(m.revenue) AS totalRevenue, COLLECT(m) AS movies \\nORDER BY totalRevenue DESC \\nLIMIT 1 \\nUNWIND movies AS topMovies \\nWITH d, totalRevenue, topMovies \\nORDER BY topMovies.revenue DESC \\nLIMIT 2 \\nRETURN d.name AS director, totalRevenue, COLLECT(topMovies.title) AS topEarningMovies', 'question': 'Identify the director who has the highest total revenue across their filmography if we only consider films made in English, and name two of their top-earning films.', 'answer': 'Based on the context provided, the director with the highest total revenue across their filmography for films made in English is **Steven Spielberg**, with a total revenue of **$9,507,300,612**. Two of his top-earning films are **\"Duel\"** and **\"Jurassic Park\"**. \\n\\nThis conclusion is drawn directly from the data retrieved using the Cypher query.'}\n",
      "Find the actor who has the broadest range of genres across their filmography.\n",
      "{'cypher': 'MATCH (a:Person)-[:ACTED_IN]->(:Movie)-[:IN_GENRE]->(g:Genre)\\nWITH a, COLLECT(DISTINCT g.name) AS genres\\nRETURN a.name, SIZE(genres) AS genreCount\\nORDER BY genreCount DESC\\nLIMIT 1', 'question': 'Find the actor who has the broadest range of genres across their filmography.', 'answer': 'Based on the context provided, the actor with the broadest range of genres across their filmography is **Samuel L. Jackson**, as he has acted in movies spanning 17 distinct genres. This conclusion is drawn from the query results, which identify the actor with the highest number of unique genres in their filmography.'}\n",
      "Who made more movies, Leonardo di Caprio or Tom Hanks most frequent coactor?\n",
      "{'cypher': 'MATCH (leo:Person {name: \"Leonardo di Caprio\"})-[:ACTED_IN]->(leoMovies:Movie)\\nWITH leo, COUNT(leoMovies) AS leoMovieCount\\nMATCH (tom:Person {name: \"Tom Hanks\"})-[:ACTED_IN]->(tomMovies:Movie)<-[:ACTED_IN]-(coactor:Person)\\nWITH leoMovieCount, coactor, COUNT(tomMovies) AS coactorMovieCount\\nORDER BY coactorMovieCount DESC\\nLIMIT 1\\nRETURN \\n  CASE \\n    WHEN leoMovieCount > coactorMovieCount THEN \"Leonardo di Caprio\"\\n    ELSE coactor.name\\n  END AS personWithMoreMovies, \\n  MAX(leoMovieCount, coactorMovieCount) AS movieCount', 'question': 'Who made more movies, Leonardo di Caprio or Tom Hanks most frequent coactor?', 'answer': \"The provided context indicates that the Cypher query used to retrieve the information contains a syntax error. Specifically, the error occurs because the `MAX` function is being used incorrectly with multiple parameters (`MAX(leoMovieCount, coactorMovieCount)`), which is not supported in Cypher.\\n\\nAs a result, the query did not execute successfully, and no data was retrieved to determine who made more movies—Leonardo di Caprio or Tom Hanks' most frequent coactor.\\n\\nTo answer the question, the query needs to be corrected. A possible fix would be to compare the two counts using a conditional statement or by restructuring the query. Once the query is corrected and executed, the resulting data would be required to provide an accurate answer.\\n\\nWould you like assistance in correcting the query or further clarification on how to proceed?\"}\n",
      "Who has appeared in more movies: Leonardo DiCaprio or the actor who has co-starred most frequently with the director of Tom Hanks' most critically acclaimed movie?\n",
      "{'cypher': \"MATCH (tom:Person {name: 'Tom Hanks'})-[:ACTED_IN]->(m:Movie)<-[:DIRECTED]-(d:Person)\\nWITH d, m ORDER BY m.imdbRating DESC LIMIT 1\\nMATCH (d)-[:DIRECTED]->(movie:Movie)<-[:ACTED_IN]-(coActor:Person)\\nWITH coActor, COUNT(movie) AS coActorCount\\nORDER BY coActorCount DESC LIMIT 1\\nMATCH (leo:Person {name: 'Leonardo DiCaprio'})-[:ACTED_IN]->(leoMovie:Movie)\\nWITH leo, COUNT(leoMovie) AS leoCount, coActor, coActorCount\\nRETURN CASE \\n  WHEN leoCount > coActorCount THEN leo.name \\n  ELSE coActor.name \\nEND AS actorWithMoreMovies, \\nleoCount AS leonardoMovieCount, \\ncoActorCount AS coActorMovieCount\", 'question': \"Who has appeared in more movies: Leonardo DiCaprio or the actor who has co-starred most frequently with the director of Tom Hanks' most critically acclaimed movie?\", 'answer': \"Based on the context provided, **Leonardo DiCaprio** has appeared in more movies. \\n\\nThe context states that Leonardo DiCaprio has acted in 24 movies (`leonardoMovieCount: 24`), while the actor who has co-starred most frequently with the director of Tom Hanks' most critically acclaimed movie has acted in only 4 movies (`coActorMovieCount: 4`). \\n\\nThus, Leonardo DiCaprio has appeared in more movies.\"}\n",
      "Between the highest-grossing movie starring Matt Damon and the highest-grossing movie starring Johnny Depp, which has more co-stars in common with Meryl Streep?\n",
      "{'cypher': 'MATCH (m1:Movie)<-[:ACTED_IN]-(md:Person {name: \"Matt Damon\"}), \\n      (m2:Movie)<-[:ACTED_IN]-(jd:Person {name: \"Johnny Depp\"}), \\n      (ms:Person {name: \"Meryl Streep\"})-[:ACTED_IN]->(common:Movie)<-[:ACTED_IN]-(co:Person)\\nWITH m1, m2, md, jd, ms, co, common\\nMATCH (m1)<-[:ACTED_IN]-(co1:Person), (m2)<-[:ACTED_IN]-(co2:Person)\\nWHERE co1 = ms OR co2 = ms\\nWITH m1, m2, COUNT(co1) AS co1Count, COUNT(co2) AS co2Count\\nRETURN m1, m2, co1Count, co2Count', 'question': 'Between the highest-grossing movie starring Matt Damon and the highest-grossing movie starring Johnny Depp, which has more co-stars in common with Meryl Streep?', 'answer': 'The context provided is empty (`[]`), meaning no data was retrieved from the Neo4j database for the given query. As a result, there is no information about the highest-grossing movies starring Matt Damon or Johnny Depp, nor about their co-stars or any connections to Meryl Streep.\\n\\nTo answer the question, the following additional information is needed:\\n1. The highest-grossing movie for Matt Damon and Johnny Depp.\\n2. The co-stars of Matt Damon and Johnny Depp in their respective highest-grossing movies.\\n3. The co-stars of Meryl Streep and whether they overlap with the co-stars of Matt Damon and Johnny Depp in their highest-grossing movies.\\n\\nPlease provide a context that includes this data or adjust the query to retrieve the necessary information.'}\n",
      "Which movie has a higher IMDb rating: the oldest film starring the person who directed the most profitable comedy of the 1990s, or the newest film starring the person who directed the least profitable action movie of the 2000s?\n",
      "{'cypher': 'MATCH (p:Person)-[:DIRECTED]->(m:Movie)-[:IN_GENRE]->(g:Genre)\\nWHERE g.name = \"Comedy\" AND m.year >= 1990 AND m.year < 2000\\nWITH p, m, (m.revenue - m.budget) AS profit\\nORDER BY profit DESC LIMIT 1\\nMATCH (oldestMovie:Movie)<-[:ACTED_IN]-(p)\\nWITH p, oldestMovie\\nORDER BY oldestMovie.year ASC LIMIT 1\\n\\nMATCH (p2:Person)-[:DIRECTED]->(m2:Movie)-[:IN_GENRE]->(g2:Genre)\\nWHERE g2.name = \"Action\" AND m2.year >= 2000 AND m2.year < 2010\\nWITH p2, m2, (m2.revenue - m2.budget) AS profit\\nORDER BY profit ASC LIMIT 1\\nMATCH (newestMovie:Movie)<-[:ACTED_IN]-(p2)\\nWITH oldestMovie, newestMovie\\nORDER BY newestMovie.year DESC LIMIT 1\\n\\nRETURN \\nCASE \\n  WHEN oldestMovie.imdbRating > newestMovie.imdbRating THEN oldestMovie.title\\n  ELSE newestMovie.title\\nEND AS higherRatedMovie;', 'question': 'Which movie has a higher IMDb rating: the oldest film starring the person who directed the most profitable comedy of the 1990s, or the newest film starring the person who directed the least profitable action movie of the 2000s?', 'answer': 'The provided context indicates that the Cypher query contains a syntax error, specifically because the variable `oldestMovie` is not defined at the point where it is referenced in the query. This error prevents the query from executing successfully and retrieving the necessary data.\\n\\nAs a result, the database did not return any information about the IMDb ratings of the movies in question. Therefore, it is not possible to determine which movie has a higher IMDb rating based on the provided context.\\n\\nTo resolve this issue and answer the question, the query needs to be corrected. Specifically, the variable `oldestMovie` must be properly defined and carried forward in the query. Once the query is fixed and executed successfully, the required data can be retrieved to compare the IMDb ratings of the two movies.'}\n",
      "Among the directors who have acted in at least five different genres, who directed the movie with the greatest difference between its IMDb rating\n",
      "{'cypher': 'MATCH (p:Person)-[:DIRECTED]->(m:Movie)-[:IN_GENRE]->(g:Genre)\\nWITH p, m, COUNT(DISTINCT g) AS genreCount\\nWHERE genreCount >= 5\\nWITH p, m, genreCount\\nORDER BY (m.imdbRating - m.revenue) DESC\\nLIMIT 1\\nRETURN p.name, m.title, genreCount', 'question': 'Among the directors who have acted in at least five different genres, who directed the movie with the greatest difference between its IMDb rating', 'answer': 'The context provided does not include information about the IMDb rating or revenue of the movie, which is necessary to determine the \"greatest difference between its IMDb rating and revenue.\" However, based on the query and the context, we can infer the following:\\n\\nThe director \"Jon Amiel\" directed the movie \"Copycat,\" which is associated with five different genres. Since this movie is returned as the result of the query, it implies that \"Copycat\" has the greatest difference between its IMDb rating and revenue among movies directed by directors who have worked in at least five genres.\\n\\n**Answer:** Jon Amiel directed the movie \"Copycat,\" which has the greatest difference between its IMDb rating and revenue among movies directed by directors who have worked in at least five genres.'}\n"
     ]
    }
   ],
   "source": [
    "results = []\n",
    "latencies = []\n",
    "ground_truth = []\n",
    "for i, row in test_df.iterrows():\n",
    "    question = row['Question']\n",
    "    print(question)\n",
    "    start = time.time()\n",
    "    try:\n",
    "        data = await flow.run(input=question)\n",
    "    except:\n",
    "        data = \"timeout\"\n",
    "    try:\n",
    "        ground_truth.append(graph_store.structured_query(row['Cypher']))\n",
    "    except Exception as e:\n",
    "        ground_truth.append(\"missing\")\n",
    "    end = time.time()\n",
    "    latencies.append(end - start)\n",
    "    results.append(data)\n",
    "    print(data)"
   ]
  },
  {
   "cell_type": "code",
   "execution_count": 18,
   "id": "5c4d5c2f-32fd-44c4-b1c7-1db30d355107",
   "metadata": {},
   "outputs": [
    {
     "data": {
      "text/plain": [
       "<Axes: ylabel='Count'>"
      ]
     },
     "execution_count": 18,
     "metadata": {},
     "output_type": "execute_result"
    },
    {
     "data": {
      "image/png": "[encoded data removed]",
      "text/plain": [
       "<Figure size 640x480 with 1 Axes>"
      ]
     },
     "metadata": {},
     "output_type": "display_data"
    }
   ],
   "source": [
    "import seaborn as sns\n",
    "\n",
    "sns.histplot(latencies, kde=True)"
   ]
  },
  {
   "cell_type": "code",
   "execution_count": 13,
   "id": "22362e3d-edab-41f7-9e6c-5bb34eeb49cf",
   "metadata": {},
   "outputs": [
    {
     "data": {
      "text/html": [
       "<div>\n",
       "<style scoped>\n",
       "    .dataframe tbody tr th:only-of-type {\n",
       "        vertical-align: middle;\n",
       "    }\n",
       "\n",
       "    .dataframe tbody tr th {\n",
       "        vertical-align: top;\n",
       "    }\n",
       "\n",
       "    .dataframe thead th {\n",
       "        text-align: right;\n",
       "    }\n",
       "</style>\n",
       "<table border=\"1\" class=\"dataframe\">\n",
       "  <thead>\n",
       "    <tr style=\"text-align: right;\">\n",
       "      <th></th>\n",
       "      <th>cypher</th>\n",
       "      <th>question</th>\n",
       "      <th>answer</th>\n",
       "      <th>ground_truth</th>\n",
       "    </tr>\n",
       "  </thead>\n",
       "  <tbody>\n",
       "    <tr>\n",
       "      <th>0</th>\n",
       "      <td>MATCH (p:Person {name: 'Tom Hanks'})-[:ACTED_I...</td>\n",
       "      <td>Who acted in Tom Hanks’s highest-rated movie?</td>\n",
       "      <td>Based on the context provided, the actor who a...</td>\n",
       "      <td>[{'a.name': 'David Andrews', 'm.title': 'From ...</td>\n",
       "    </tr>\n",
       "    <tr>\n",
       "      <th>1</th>\n",
       "      <td>MATCH (keanu:Person {name: 'Keanu Reeves'})-[:...</td>\n",
       "      <td>Which movie starring Keanu Reeves has the most...</td>\n",
       "      <td>Based on the context provided, the movie starr...</td>\n",
       "      <td>[{'Movie': 'Lake House, The', 'CommonActors': 2}]</td>\n",
       "    </tr>\n",
       "    <tr>\n",
       "      <th>2</th>\n",
       "      <td>MATCH (p:Person)-[:ACTED_IN]-&gt;(m:Movie {title:...</td>\n",
       "      <td>Who directed the most recent movie starring Ha...</td>\n",
       "      <td>The context retrieved from the Neo4j database ...</td>\n",
       "      <td>[{'director': 'Brad Anderson', 'mostRecentMovi...</td>\n",
       "    </tr>\n",
       "    <tr>\n",
       "      <th>3</th>\n",
       "      <td>MATCH (m:Movie)-[:DIRECTED]-(d:Person) \\nWHERE...</td>\n",
       "      <td>What is the highest-rated movie from the 1990s...</td>\n",
       "      <td>The highest-rated movie from the 1990s is **\"T...</td>\n",
       "      <td>[{'highestRatedMovie': 'Shawshank Redemption, ...</td>\n",
       "    </tr>\n",
       "    <tr>\n",
       "      <th>4</th>\n",
       "      <td>MATCH (keanu:Person {name: \"Keanu Reeves\"})-[:...</td>\n",
       "      <td>For all movies starring Keanu Reeves, find the...</td>\n",
       "      <td>The provided context indicates that the Cypher...</td>\n",
       "      <td>[{'director': 'Lana Wachowski', 'collaboration...</td>\n",
       "    </tr>\n",
       "  </tbody>\n",
       "</table>\n",
       "</div>"
      ],
      "text/plain": [
       "                                              cypher  \\\n",
       "0  MATCH (p:Person {name: 'Tom Hanks'})-[:ACTED_I...   \n",
       "1  MATCH (keanu:Person {name: 'Keanu Reeves'})-[:...   \n",
       "2  MATCH (p:Person)-[:ACTED_IN]->(m:Movie {title:...   \n",
       "3  MATCH (m:Movie)-[:DIRECTED]-(d:Person) \\nWHERE...   \n",
       "4  MATCH (keanu:Person {name: \"Keanu Reeves\"})-[:...   \n",
       "\n",
       "                                            question  \\\n",
       "0      Who acted in Tom Hanks’s highest-rated movie?   \n",
       "1  Which movie starring Keanu Reeves has the most...   \n",
       "2  Who directed the most recent movie starring Ha...   \n",
       "3  What is the highest-rated movie from the 1990s...   \n",
       "4  For all movies starring Keanu Reeves, find the...   \n",
       "\n",
       "                                              answer  \\\n",
       "0  Based on the context provided, the actor who a...   \n",
       "1  Based on the context provided, the movie starr...   \n",
       "2  The context retrieved from the Neo4j database ...   \n",
       "3  The highest-rated movie from the 1990s is **\"T...   \n",
       "4  The provided context indicates that the Cypher...   \n",
       "\n",
       "                                        ground_truth  \n",
       "0  [{'a.name': 'David Andrews', 'm.title': 'From ...  \n",
       "1  [{'Movie': 'Lake House, The', 'CommonActors': 2}]  \n",
       "2  [{'director': 'Brad Anderson', 'mostRecentMovi...  \n",
       "3  [{'highestRatedMovie': 'Shawshank Redemption, ...  \n",
       "4  [{'director': 'Lana Wachowski', 'collaboration...  "
      ]
     },
     "execution_count": 13,
     "metadata": {},
     "output_type": "execute_result"
    }
   ],
   "source": [
    "import pandas as pd\n",
    "from ragas import evaluate\n",
    "from datasets import Dataset\n",
    "\n",
    "\n",
    "\n",
    "# Convert to DataFrame\n",
    "df = pd.DataFrame(results) \n",
    "df['ground_truth'] = [str(el) for el in ground_truth] # Dates are causing troubles\n",
    "# Convert DataFrame to Hugging Face Dataset\n",
    "dataset = Dataset.from_pandas(df)\n",
    "df.head()"
   ]
  },
  {
   "cell_type": "code",
   "execution_count": 14,
   "id": "fab22702-a488-4848-902a-7eadf12925c5",
   "metadata": {},
   "outputs": [
    {
     "data": {
      "application/vnd.jupyter.widget-view+json": {
       "model_id": "3b971952b93b43db85d152d6e4ac80cc",
       "version_major": 2,
       "version_minor": 0
      },
      "text/plain": [
       "Evaluating:   0%|          | 0/52 [00:00<?, ?it/s]"
      ]
     },
     "metadata": {},
     "output_type": "display_data"
    }
   ],
   "source": [
    "result = evaluate(\n",
    "    dataset,\n",
    "    metrics=[\n",
    "        answer_relevancy\n",
    "    ],\n",
    "    llm=LlamaIndexLLMWrapper(llm)\n",
    ")"
   ]
  },
  {
   "cell_type": "code",
   "execution_count": 15,
   "id": "751eb90b-eb22-46c9-84ee-5a81fa339647",
   "metadata": {},
   "outputs": [
    {
     "data": {
      "text/plain": [
       "{'answer_relevancy': 0.5429}"
      ]
     },
     "execution_count": 15,
     "metadata": {},
     "output_type": "execute_result"
    }
   ],
   "source": [
    "result"
   ]
  },
  {
   "cell_type": "code",
   "execution_count": 20,
   "id": "a9e6cbb8-5d5d-416a-aec4-3f52e73fd9a3",
   "metadata": {},
   "outputs": [],
   "source": [
    "result_df = result.to_pandas()\n",
    "result_df.to_csv('benchmark_output.csv', index=False)"
   ]
  },
  {
   "cell_type": "code",
   "execution_count": 21,
   "id": "e1f6f502-48d6-440c-aae6-1f7cc161f2ab",
   "metadata": {},
   "outputs": [
    {
     "data": {
      "text/plain": [
       "<Axes: xlabel='answer_relevancy', ylabel='Count'>"
      ]
     },
     "execution_count": 21,
     "metadata": {},
     "output_type": "execute_result"
    },
    {
     "data": {
      "image/png": "[encoded data removed]",
      "text/plain": [
       "<Figure size 640x480 with 1 Axes>"
      ]
     },
     "metadata": {},
     "output_type": "display_data"
    }
   ],
   "source": [
    "sns.histplot(result_df['answer_relevancy'], kde=True)"
   ]
  },
  {
   "cell_type": "code",
   "execution_count": null,
   "id": "2a57e472-52c6-4da0-b6ef-d3122d5c4d5e",
   "metadata": {},
   "outputs": [],
   "source": []
  }
 ],
 "metadata": {
  "kernelspec": {
   "display_name": "Python 3 (ipykernel)",
   "language": "python",
   "name": "python3"
  },
  "language_info": {
   "codemirror_mode": {
    "name": "ipython",
    "version": 3
   },
   "file_extension": ".py",
   "mimetype": "text/x-python",
   "name": "python",
   "nbconvert_exporter": "python",
   "pygments_lexer": "ipython3",
   "version": "3.11.5"
  }
 },
 "nbformat": 4,
 "nbformat_minor": 5
}
